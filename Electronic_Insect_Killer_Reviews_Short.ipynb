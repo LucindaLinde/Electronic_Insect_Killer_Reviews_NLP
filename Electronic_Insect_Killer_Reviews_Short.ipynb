{
 "cells": [
  {
   "cell_type": "markdown",
   "id": "db8e4dc4",
   "metadata": {},
   "source": [
    "#### Use NLP to Prioritize the Most Important Product Failings to Fix\n",
    "Product Reviews contain valuable information about which product flaws cause negative reviews. Natural Language Processing of these reviews reveals patterns based on thousands of reviews and results in a prioritized list. Product managers can therefore spend their scarce resources fixing the most impactful problems.\n",
    "\n",
    "For Data Scientists, here’s the approach taken:\n",
    "* Model built using Python 3 and scikit-learn, NLTK packages\n",
    "* Load and merge the two product data sets for the Electronic Insect Killer product\n",
    "* Keep only the ‘review’, ‘summary’ and ‘rating’ columns\n",
    "* Preprocess the text \n",
    "    * Combine the review and summary text fields\n",
    "    * Make text lower case, take out common words (like ‘the’), take out words with 3 or fewer characters, ignore special characters, tokenize the words\n",
    "* Use TFIDF vectorizer to make the words processable by machine learning algorithms \n",
    "* Look at groups of 2, 3 and 4 consecutive words (n-grams); not single words\n",
    "* Apply Random Forest algorithm to predict if the review is a Positive Review (4 or 5 stars) or a Negative Review (1, 2 or 3 stars)\n",
    "    * Train model on 75% of the data, have model make predictions on 25% of the data \n",
    "    * Model predicted pretty well; AUC = 0.86, overall accuracy = 0.82.\n",
    "    * Recall of predicting a Positive Review was 0.99 but Recall of predicting a Negative Review was only 0.27.  \n",
    "* Look at the 200 most influential word groups that are predictive of a positive or negative review. \n",
    "    * Manually pick out the groups of words that look like they deal with product flaws. For this article, I focused on the bulb because it showed up 4 times within the top 26 word-combinations.\n",
    "    * Manually scan the subset of reviews that deal with the bulb to understand more about the context. \n",
    "* Put together cross-functional action plan to address the product attribute that makes customers so unhappy. \n"
   ]
  },
  {
   "cell_type": "markdown",
   "id": "add43f07",
   "metadata": {},
   "source": [
    "#### Citation and Data Dictionary\n",
    "Please cite the following paper if you use the data in any way:\n",
    "\n",
    "Justifying recommendations using distantly-labeled reviews and fined-grained aspects\n",
    "Jianmo Ni, Jiacheng Li, Julian McAuley\n",
    "Empirical Methods in Natural Language Processing (EMNLP), 2019\n",
    "pdf\n",
    "\n",
    "Website:  https://nijianmo.github.io/amazon/index.html#subsets\n",
    "\n",
    "In the Review Data:\n",
    "\n",
    "* reviewerID - ID of the reviewer, e.g. A2SUAM1J3GNN3B\n",
    "* asin - ID of the product, e.g. 0000013714\n",
    "* reviewerName - name of the reviewer\n",
    "* vote - helpful votes of the review\n",
    "* style - a disctionary of the product metadata, e.g., \"Format\" is \"Hardcover\"\n",
    "* reviewText - text of the review\n",
    "* overall - rating of the product\n",
    "* summary - summary of the review\n",
    "* unixReviewTime - time of the review (unix time)\n",
    "* reviewTime - time of the review (raw)\n",
    "* image - images that users post after they have received the product\n",
    "\n",
    "In the Meta Data:\n",
    "\n",
    "\n",
    "* asin - ID of the product, e.g. 0000031852\n",
    "* title - name of the product\n",
    "* feature - bullet-point format features of the product\n",
    "* description - description of the product\n",
    "* price - price in US dollars (at time of crawl)\n",
    "* imageURL - url of the product image\n",
    "* imageURL - url of the high resolution product image\n",
    "* related - related products (also bought, also viewed, bought together, buy after viewing)\n",
    "* salesRank - sales rank information\n",
    "* brand - brand name\n",
    "* categories - list of categories the product belongs to\n",
    "* tech1 - the first technical detail table of the product\n",
    "* tech2 - the second technical detail table of the product\n",
    "* similar - similar product table"
   ]
  },
  {
   "cell_type": "code",
   "execution_count": 59,
   "id": "bfedf24f",
   "metadata": {
    "scrolled": false
   },
   "outputs": [],
   "source": [
    "# pwd"
   ]
  },
  {
   "cell_type": "code",
   "execution_count": 60,
   "id": "3305e094",
   "metadata": {
    "scrolled": false
   },
   "outputs": [
    {
     "name": "stderr",
     "output_type": "stream",
     "text": [
      "[nltk_data] Downloading package stopwords to\n",
      "[nltk_data]     C:\\Users\\lucin\\AppData\\Roaming\\nltk_data...\n",
      "[nltk_data]   Package stopwords is already up-to-date!\n"
     ]
    },
    {
     "data": {
      "text/plain": [
       "True"
      ]
     },
     "execution_count": 60,
     "metadata": {},
     "output_type": "execute_result"
    }
   ],
   "source": [
    "# Import necessary libraries\n",
    "import pandas as pd\n",
    "import numpy as np\n",
    "import matplotlib.pyplot as plt\n",
    "import seaborn as sns\n",
    "import sqlite3\n",
    "import re\n",
    "\n",
    "# Enable libraries to print in-line\n",
    "%matplotlib inline\n",
    "from IPython.core.interactiveshell import InteractiveShell\n",
    "InteractiveShell.ast_node_interactivity = \"all\"\n",
    "\n",
    "# Import necessary libraries\n",
    "import pandas as pd\n",
    "import numpy as np\n",
    "import matplotlib.pyplot as plt\n",
    "import seaborn as sns\n",
    "from datetime import datetime\n",
    "from datetime import timedelta\n",
    "import string\n",
    "import nltk\n",
    "from nltk.corpus import stopwords\n",
    "nltk.download('stopwords')\n",
    "from nltk.tokenize import word_tokenize\n",
    "\n",
    "#Import additional sklearn algorithms and performance measurement libraries\n",
    "from sklearn.feature_extraction.text import CountVectorizer\n",
    "from sklearn import metrics\n",
    "from sklearn.metrics import accuracy_score\n",
    "\n",
    "\n",
    "# Import Machine Learning, Preprocessing and Metrics Libraries\n",
    "import sklearn\n",
    "from sklearn.feature_extraction.text import TfidfVectorizer\n",
    "from sklearn.preprocessing import StandardScaler\n",
    "from sklearn.linear_model import LogisticRegression        # Import Logistic Regression\n",
    "from sklearn.model_selection import train_test_split       # Import Train-Test Splitter\n",
    "from sklearn.model_selection import RandomizedSearchCV     # Random tuner\n",
    "import time\n",
    "# from sklearn.model_selection import GridSearchCV           # Tuning Hyper pararmeters with grid search \n",
    "import xgboost as xgb\n",
    "from xgboost import XGBClassifier\n",
    "from nltk.stem import WordNetLemmatizer\n",
    "from nltk.corpus import stopwords\n",
    "stop_words = set(stopwords.words(\"english\")) \n",
    "lemmatizer = WordNetLemmatizer()"
   ]
  },
  {
   "cell_type": "code",
   "execution_count": 61,
   "id": "e8ef0c86",
   "metadata": {
    "scrolled": false
   },
   "outputs": [
    {
     "name": "stderr",
     "output_type": "stream",
     "text": [
      "Loading…: 100%|██████████████████████████| 101/101 [00:01<00:00, 63.87it/s]"
     ]
    },
    {
     "name": "stdout",
     "output_type": "stream",
     "text": [
      "Complete.\n"
     ]
    },
    {
     "name": "stderr",
     "output_type": "stream",
     "text": [
      "\n"
     ]
    }
   ],
   "source": [
    "\n",
    "from tqdm import tqdm\n",
    "import time\n",
    "  \n",
    "  \n",
    "for i in tqdm (range (101), \n",
    "               desc=\"Loading…\", \n",
    "               ascii=False, ncols=75):\n",
    "    time.sleep(0.01)\n",
    "      \n",
    "print(\"Complete.\")\n",
    "import gzip\n",
    "import json"
   ]
  },
  {
   "cell_type": "code",
   "execution_count": 62,
   "id": "45d51db1",
   "metadata": {
    "scrolled": false
   },
   "outputs": [
    {
     "data": {
      "text/plain": [
       "{'codeCellConfig': {'lineWrap': 'wordWrapColumn', 'wordWrapColumn': 80}}"
      ]
     },
     "execution_count": 62,
     "metadata": {},
     "output_type": "execute_result"
    }
   ],
   "source": [
    "{\n",
    "   \"codeCellConfig\": {\n",
    "      \"lineWrap\": \"wordWrapColumn\",\n",
    "      \"wordWrapColumn\": 80\n",
    "   }\n",
    "}"
   ]
  },
  {
   "cell_type": "markdown",
   "id": "36f899ab",
   "metadata": {},
   "source": [
    "### LOAD DATA"
   ]
  },
  {
   "cell_type": "code",
   "execution_count": 63,
   "id": "76d594ba",
   "metadata": {
    "scrolled": false
   },
   "outputs": [
    {
     "data": {
      "text/plain": [
       "'\\n# Original Loading of data from .json.gz files.  Do this is csv files are gone or corrupted\\n# No need to repeat this long process.  Instead, load the .csv files with initial cleaned data-  see next cell.\\n\\ndef parse(path):\\n  g = gzip.open(path, \\'rb\\')\\n  for l in g:\\n    yield json.loads(l)\\n\\ndef getDF(path):\\n  i = 0\\n  df = {}\\n  for d in parse(path):\\n    df[i] = d\\n    i += 1\\n  return pd.DataFrame.from_dict(df, orient=\\'index\\')\\n\\n\\ndf_review = getDF(\\'Patio_Lawn_and_Garden.json.gz\\')\\ndf_meta = getDF(\\'meta_Patio_Lawn_and_Garden.json.gz\\')\\n\\n#  Rename overall column to \\'rating\\', drop the style column for now because it contains a dictionary\\n#  Drop duplicates of asin in df_meta\\n\\ndf_review.rename(columns = {\\'overall\\':\\'rating\\'}, inplace = True)\\ndf_review= df_review.drop([\\'style\\'], axis=1)\\n\\ndf_meta = df_meta.drop_duplicates(subset = [\\'asin\\'])\\n\\n# Do some data cleanup, replace NAs with \\'none\\'\\ndf_review.summary = df_review.summary.fillna(\\'none\\')\\ndf_review.reviewText = df_review.reviewText.fillna(\\'none\\')\\n#  df_review.rating = df_review.rating.fillna(\\'none\\')    #Turns out there are no NAs in rating column- I checked\\n\\n# Do some data cleanup, replace NAs with \\'none\\'\\ndf_review.summary = df_review.summary.fillna(\\'none\\')\\ndf_review.reviewText = df_review.reviewText.fillna(\\'none\\')\\n#  df_review.rating = df_review.rating.fillna(\\'none\\')    #Turns out there are no NAs in rating column- I checked:\\n\\nprint(\"Sum of na\\'s, by column: \", df_review.isnull().sum(axis = 0))\\nprint(\"Sum of all na\\'s in df: \", df_review.isna().sum().sum())\\n\\n# To make life easier, save these huge files into csv\\'s so they can be called up more quickly\\n# saving the dataframe\\ndf_review.to_csv(\\'Reviews_Dataset.csv\\')   \\ndf_meta.to_csv(\\'Meta_Dataset.csv\\')'"
      ]
     },
     "execution_count": 63,
     "metadata": {},
     "output_type": "execute_result"
    }
   ],
   "source": [
    "\n",
    "# Code to load data from .json.gz files.  Do this the first time to create the csv files, then comment out.\n",
    "# No need to repeat this long process.  Instead, load the .csv files with initial cleaned data-  see next cell.\n",
    "\n",
    "def parse(path):\n",
    "  g = gzip.open(path, 'rb')\n",
    "  for l in g:\n",
    "    yield json.loads(l)\n",
    "\n",
    "def getDF(path):\n",
    "  i = 0\n",
    "  df = {}\n",
    "  for d in parse(path):\n",
    "    df[i] = d\n",
    "    i += 1\n",
    "  return pd.DataFrame.from_dict(df, orient='index')\n",
    "\n",
    "\n",
    "df_review = getDF('Patio_Lawn_and_Garden.json.gz')\n",
    "df_meta = getDF('meta_Patio_Lawn_and_Garden.json.gz')\n",
    "\n",
    "#  Rename overall column to 'rating', drop the style column for now because it contains a dictionary\n",
    "#  Drop duplicates of asin in df_meta\n",
    "\n",
    "df_review.rename(columns = {'overall':'rating'}, inplace = True)\n",
    "df_review= df_review.drop(['style'], axis=1)\n",
    "\n",
    "df_meta = df_meta.drop_duplicates(subset = ['asin'])\n",
    "\n",
    "# Do some data cleanup, replace NAs with 'none'\n",
    "df_review.summary = df_review.summary.fillna('none')\n",
    "df_review.reviewText = df_review.reviewText.fillna('none')\n",
    "#  df_review.rating = df_review.rating.fillna('none')    #Turns out there are no NAs in rating column- I checked\n",
    "\n",
    "# Do some data cleanup, replace NAs with 'none'\n",
    "df_review.summary = df_review.summary.fillna('none')\n",
    "df_review.reviewText = df_review.reviewText.fillna('none')\n",
    "#  df_review.rating = df_review.rating.fillna('none')    #Turns out there are no NAs in rating column- I checked:\n",
    "\n",
    "print(\"Sum of na's, by column: \", df_review.isnull().sum(axis = 0))\n",
    "print(\"Sum of all na's in df: \", df_review.isna().sum().sum())\n",
    "\n",
    "# To make life easier, save these huge files into csv's so they can be called up more quickly\n",
    "# saving the dataframe\n",
    "df_review.to_csv('Reviews_Dataset.csv')   \n",
    "df_meta.to_csv('Meta_Dataset.csv')"
   ]
  },
  {
   "cell_type": "markdown",
   "id": "e80cd093",
   "metadata": {},
   "source": [
    "#### Define Functions that Load, Merge and Preprocess the Review Data"
   ]
  },
  {
   "cell_type": "code",
   "execution_count": 64,
   "id": "928cf2a7",
   "metadata": {
    "scrolled": false
   },
   "outputs": [],
   "source": [
    "# Read review data and meta data\n",
    "# Defining Functions  https://www.oreilly.com/library/view/head-first-python/9781491919521/ch04.html \n",
    "\n",
    "def load_merge(review_file, meta_file, asin):\n",
    "    \n",
    "    '''This function loads the review file and the meta file, then after filtering for one asin product number\n",
    "    for both files, produces a merged file for that asin product number'''\n",
    "    \n",
    "    df_meta= pd.read_csv(meta_file)   # engine = 'python' doesn't work for some reason\n",
    "    df_review = pd.read_csv(review_file)\n",
    "    Prod_Review = df_review[df_review['asin']== asin]\n",
    "    Prod_Meta = df_meta[df_meta['asin']== asin]\n",
    "    Prod_merge = Prod_Review.merge(Prod_Meta, on='asin', how='inner')\n",
    "    return Prod_merge\n",
    "   "
   ]
  },
  {
   "cell_type": "code",
   "execution_count": 65,
   "id": "db728538",
   "metadata": {
    "scrolled": false
   },
   "outputs": [],
   "source": [
    "# Let's create review_words to combine the reviewText and summary columns\n",
    "\n",
    "# PREPROCESSING OF TEXT:  \n",
    "# For vectorizer to work, there can't be NaN's.  Fill with 'none'\n",
    "# Make all letters lower case, leave only a-z, 0-9, take out stop words and words <3 characters\n",
    "\n",
    "# disable chained assignments\n",
    "pd.options.mode.chained_assignment = None \n",
    "\n",
    "def preprocess(df, stop_words):\n",
    "    df.summary = df.summary.fillna('none')\n",
    "    df.reviewText = df.reviewText.fillna('none')\n",
    "    df.rating = df.rating.fillna('none')\n",
    "    # df.Verified_Review = df.Verified_Review.fillna(0)\n",
    "    df[\"review_words\"] = df[\"reviewText\"]   + \" \" + df[\"summary\"]    #   +\" \"+ df[\"category\"]  ADD LATER?\n",
    "    df['review_words'] = df['review_words'].str.lower()\n",
    "    df['review_words'] = df['review_words'].str.replace(\"[^a-zA-Z+%0-9]\", \" \")\n",
    "    df[\"review_words\"] = df[\"review_words\"].apply(lambda x: ' '.join([w for w in x.split() if len(w)>2]))\n",
    "    df['review_words'] = df['review_words'].apply(lambda x: ' '.join([item for item in x.split() if item not in stop_words]))\n",
    "    return df\n",
    "\n",
    "\n",
    "# NOTE !!!!!!    Do not do this twice or more- it repeats the concatenation.\n",
    "\n",
    "\n"
   ]
  },
  {
   "cell_type": "code",
   "execution_count": 66,
   "id": "27438f5e",
   "metadata": {
    "scrolled": false
   },
   "outputs": [
    {
     "name": "stderr",
     "output_type": "stream",
     "text": [
      "C:\\Users\\lucin\\anaconda3\\lib\\site-packages\\IPython\\core\\interactiveshell.py:3357: DtypeWarning: Columns (2) have mixed types.Specify dtype option on import or set low_memory=False.\n",
      "  if (await self.run_code(code, result,  async_=asy)):\n",
      "C:\\Users\\lucin\\anaconda3\\lib\\site-packages\\IPython\\core\\interactiveshell.py:3357: DtypeWarning: Columns (7) have mixed types.Specify dtype option on import or set low_memory=False.\n",
      "  if (await self.run_code(code, result,  async_=asy)):\n"
     ]
    }
   ],
   "source": [
    "# Take a subset of data, specifically one product   B00004R9VV   Insect Killer\n",
    "# For this product there should be 8166 rows and 31 columns in the Prod_merge output\n",
    "\n",
    "Prod_merge = load_merge(\"Meta_Dataset.csv\", \"Reviews_Dataset.csv\"   , 'B00004R9VV')    # OR  B00004R9VV"
   ]
  },
  {
   "cell_type": "code",
   "execution_count": 67,
   "id": "d68b88cf",
   "metadata": {
    "scrolled": false
   },
   "outputs": [
    {
     "data": {
      "text/html": [
       "<div>\n",
       "<style scoped>\n",
       "    .dataframe tbody tr th:only-of-type {\n",
       "        vertical-align: middle;\n",
       "    }\n",
       "\n",
       "    .dataframe tbody tr th {\n",
       "        vertical-align: top;\n",
       "    }\n",
       "\n",
       "    .dataframe thead th {\n",
       "        text-align: right;\n",
       "    }\n",
       "</style>\n",
       "<table border=\"1\" class=\"dataframe\">\n",
       "  <thead>\n",
       "    <tr style=\"text-align: right;\">\n",
       "      <th></th>\n",
       "      <th>Unnamed: 0_x</th>\n",
       "      <th>category</th>\n",
       "      <th>tech1</th>\n",
       "      <th>description</th>\n",
       "      <th>fit</th>\n",
       "      <th>title</th>\n",
       "      <th>also_buy</th>\n",
       "      <th>tech2</th>\n",
       "      <th>brand</th>\n",
       "      <th>feature</th>\n",
       "      <th>...</th>\n",
       "      <th>rating</th>\n",
       "      <th>vote</th>\n",
       "      <th>verified</th>\n",
       "      <th>reviewTime</th>\n",
       "      <th>reviewerID</th>\n",
       "      <th>reviewerName</th>\n",
       "      <th>reviewText</th>\n",
       "      <th>summary</th>\n",
       "      <th>unixReviewTime</th>\n",
       "      <th>image</th>\n",
       "    </tr>\n",
       "  </thead>\n",
       "  <tbody>\n",
       "    <tr>\n",
       "      <th>0</th>\n",
       "      <td>425</td>\n",
       "      <td>['Patio, Lawn &amp; Garden', 'Pest Control', 'Bug ...</td>\n",
       "      <td>NaN</td>\n",
       "      <td>[\"Are you troubled by more insects than you ca...</td>\n",
       "      <td>NaN</td>\n",
       "      <td>Flowtron BK-80D 80-Watt Electronic Insect Kill...</td>\n",
       "      <td>['B000063XHT', 'B00004R9VX', 'B00004R9W5', 'B0...</td>\n",
       "      <td>NaN</td>\n",
       "      <td>Flowtron</td>\n",
       "      <td>['High efficiency, non-clogging killing grid, ...</td>\n",
       "      <td>...</td>\n",
       "      <td>2.0</td>\n",
       "      <td>7</td>\n",
       "      <td>False</td>\n",
       "      <td>06 3, 2002</td>\n",
       "      <td>A1JYVOX5AX65N9</td>\n",
       "      <td>Julia</td>\n",
       "      <td>Poor product. It will kill insects after it is...</td>\n",
       "      <td>Flowtron Insect Killer</td>\n",
       "      <td>1023062400</td>\n",
       "      <td>NaN</td>\n",
       "    </tr>\n",
       "    <tr>\n",
       "      <th>1</th>\n",
       "      <td>425</td>\n",
       "      <td>['Patio, Lawn &amp; Garden', 'Pest Control', 'Bug ...</td>\n",
       "      <td>NaN</td>\n",
       "      <td>[\"Are you troubled by more insects than you ca...</td>\n",
       "      <td>NaN</td>\n",
       "      <td>Flowtron BK-80D 80-Watt Electronic Insect Kill...</td>\n",
       "      <td>['B000063XHT', 'B00004R9VX', 'B00004R9W5', 'B0...</td>\n",
       "      <td>NaN</td>\n",
       "      <td>Flowtron</td>\n",
       "      <td>['High efficiency, non-clogging killing grid, ...</td>\n",
       "      <td>...</td>\n",
       "      <td>5.0</td>\n",
       "      <td>20</td>\n",
       "      <td>False</td>\n",
       "      <td>06 1, 2002</td>\n",
       "      <td>A2J2SZC2H8N0WZ</td>\n",
       "      <td>Ross</td>\n",
       "      <td>This bug popper really does a great job. You d...</td>\n",
       "      <td>Works Great!</td>\n",
       "      <td>1022889600</td>\n",
       "      <td>NaN</td>\n",
       "    </tr>\n",
       "    <tr>\n",
       "      <th>2</th>\n",
       "      <td>425</td>\n",
       "      <td>['Patio, Lawn &amp; Garden', 'Pest Control', 'Bug ...</td>\n",
       "      <td>NaN</td>\n",
       "      <td>[\"Are you troubled by more insects than you ca...</td>\n",
       "      <td>NaN</td>\n",
       "      <td>Flowtron BK-80D 80-Watt Electronic Insect Kill...</td>\n",
       "      <td>['B000063XHT', 'B00004R9VX', 'B00004R9W5', 'B0...</td>\n",
       "      <td>NaN</td>\n",
       "      <td>Flowtron</td>\n",
       "      <td>['High efficiency, non-clogging killing grid, ...</td>\n",
       "      <td>...</td>\n",
       "      <td>1.0</td>\n",
       "      <td>33</td>\n",
       "      <td>True</td>\n",
       "      <td>04 27, 2002</td>\n",
       "      <td>ANIATM2KZ3OP7</td>\n",
       "      <td>Hugh D. Murray</td>\n",
       "      <td>It seemed to be doing the job. Then after less...</td>\n",
       "      <td>Already Broke!</td>\n",
       "      <td>1019865600</td>\n",
       "      <td>NaN</td>\n",
       "    </tr>\n",
       "  </tbody>\n",
       "</table>\n",
       "<p>3 rows × 31 columns</p>\n",
       "</div>"
      ],
      "text/plain": [
       "   Unnamed: 0_x                                           category tech1  \\\n",
       "0           425  ['Patio, Lawn & Garden', 'Pest Control', 'Bug ...   NaN   \n",
       "1           425  ['Patio, Lawn & Garden', 'Pest Control', 'Bug ...   NaN   \n",
       "2           425  ['Patio, Lawn & Garden', 'Pest Control', 'Bug ...   NaN   \n",
       "\n",
       "                                         description  fit  \\\n",
       "0  [\"Are you troubled by more insects than you ca...  NaN   \n",
       "1  [\"Are you troubled by more insects than you ca...  NaN   \n",
       "2  [\"Are you troubled by more insects than you ca...  NaN   \n",
       "\n",
       "                                               title  \\\n",
       "0  Flowtron BK-80D 80-Watt Electronic Insect Kill...   \n",
       "1  Flowtron BK-80D 80-Watt Electronic Insect Kill...   \n",
       "2  Flowtron BK-80D 80-Watt Electronic Insect Kill...   \n",
       "\n",
       "                                            also_buy tech2     brand  \\\n",
       "0  ['B000063XHT', 'B00004R9VX', 'B00004R9W5', 'B0...   NaN  Flowtron   \n",
       "1  ['B000063XHT', 'B00004R9VX', 'B00004R9W5', 'B0...   NaN  Flowtron   \n",
       "2  ['B000063XHT', 'B00004R9VX', 'B00004R9W5', 'B0...   NaN  Flowtron   \n",
       "\n",
       "                                             feature  ... rating vote  \\\n",
       "0  ['High efficiency, non-clogging killing grid, ...  ...    2.0    7   \n",
       "1  ['High efficiency, non-clogging killing grid, ...  ...    5.0   20   \n",
       "2  ['High efficiency, non-clogging killing grid, ...  ...    1.0   33   \n",
       "\n",
       "  verified   reviewTime      reviewerID    reviewerName  \\\n",
       "0    False   06 3, 2002  A1JYVOX5AX65N9           Julia   \n",
       "1    False   06 1, 2002  A2J2SZC2H8N0WZ            Ross   \n",
       "2     True  04 27, 2002   ANIATM2KZ3OP7  Hugh D. Murray   \n",
       "\n",
       "                                          reviewText                 summary  \\\n",
       "0  Poor product. It will kill insects after it is...  Flowtron Insect Killer   \n",
       "1  This bug popper really does a great job. You d...            Works Great!   \n",
       "2  It seemed to be doing the job. Then after less...          Already Broke!   \n",
       "\n",
       "  unixReviewTime image  \n",
       "0     1023062400   NaN  \n",
       "1     1022889600   NaN  \n",
       "2     1019865600   NaN  \n",
       "\n",
       "[3 rows x 31 columns]"
      ]
     },
     "execution_count": 67,
     "metadata": {},
     "output_type": "execute_result"
    }
   ],
   "source": [
    "Prod_merge.head(3)"
   ]
  },
  {
   "cell_type": "code",
   "execution_count": 68,
   "id": "3c87a15a",
   "metadata": {
    "scrolled": false
   },
   "outputs": [
    {
     "data": {
      "text/plain": [
       "Unnamed: 0_x          0\n",
       "category              0\n",
       "tech1              8166\n",
       "description           0\n",
       "fit                8166\n",
       "title                 0\n",
       "also_buy              0\n",
       "tech2              8166\n",
       "brand                 0\n",
       "feature               0\n",
       "rank                  0\n",
       "also_view             0\n",
       "main_cat              0\n",
       "similar_item          0\n",
       "date               8166\n",
       "price                 0\n",
       "asin                  0\n",
       "imageURL              0\n",
       "imageURLHighRes       0\n",
       "details               0\n",
       "Unnamed: 0_y          0\n",
       "rating                0\n",
       "vote               7291\n",
       "verified              0\n",
       "reviewTime            0\n",
       "reviewerID            0\n",
       "reviewerName          0\n",
       "reviewText            0\n",
       "summary               0\n",
       "unixReviewTime        0\n",
       "image              8050\n",
       "dtype: int64"
      ]
     },
     "execution_count": 68,
     "metadata": {},
     "output_type": "execute_result"
    }
   ],
   "source": [
    "# Check for nulls in each column\n",
    "\n",
    "df = Prod_merge\n",
    "\n",
    "df.isnull().sum(axis = 0)\n"
   ]
  },
  {
   "cell_type": "code",
   "execution_count": 69,
   "id": "459acbd6",
   "metadata": {
    "scrolled": false
   },
   "outputs": [
    {
     "data": {
      "text/plain": [
       "'# Take a subset of data, specifically one product   B00004R9VV  Insect Killer\\n\\nProd_Review = df_review[df_review[\\'asin\\']==\"B00004R9VV\"]\\nProd_Meta = df_meta[df_meta[\\'asin\\']==\\'B00004R9VV\\']\\nProd_Review.shape\\nProd_Meta.shape        # Shape is 1,20 because there\\'s one product with this \\'asin\\'\\n'"
      ]
     },
     "execution_count": 69,
     "metadata": {},
     "output_type": "execute_result"
    }
   ],
   "source": [
    "'''# Take a subset of data, specifically one product   B00004R9VV  Insect Killer\n",
    "\n",
    "Prod_Review = df_review[df_review['asin']==\"B00004R9VV\"]\n",
    "Prod_Meta = df_meta[df_meta['asin']=='B00004R9VV']\n",
    "Prod_Review.shape\n",
    "Prod_Meta.shape        # Shape is 1,20 because there's one product with this 'asin'\n",
    "'''"
   ]
  },
  {
   "cell_type": "markdown",
   "id": "65e7b22f",
   "metadata": {},
   "source": [
    "###  Initial EDA"
   ]
  },
  {
   "cell_type": "code",
   "execution_count": 70,
   "id": "de334a31",
   "metadata": {
    "scrolled": false
   },
   "outputs": [
    {
     "data": {
      "text/plain": [
       "\"\\n# DO THIS ONLY FOR EDA, NOT MAIN FLOW OF ANALYSIS\\n# Get value counts to see the top 10 value counts in each column\\ndf = Prod_merge\\n\\nfor(columnName, columnData) in df.iteritems():\\n    print('Column Name: ', columnName)\\n    print()\\n    print('Column Value      Counts')\\n    print(columnData.value_counts().head(n = 20))\\n    print()\\n    print()\""
      ]
     },
     "execution_count": 70,
     "metadata": {},
     "output_type": "execute_result"
    }
   ],
   "source": [
    "'''\n",
    "# DO THIS ONLY FOR EDA, NOT MAIN FLOW OF ANALYSIS\n",
    "# Get value counts to see the top 10 value counts in each column\n",
    "df = Prod_merge\n",
    "\n",
    "for(columnName, columnData) in df.iteritems():\n",
    "    print('Column Name: ', columnName)\n",
    "    print()\n",
    "    print('Column Value      Counts')\n",
    "    print(columnData.value_counts().head(n = 20))\n",
    "    print()\n",
    "    print()'''"
   ]
  },
  {
   "cell_type": "code",
   "execution_count": 71,
   "id": "74a08c40",
   "metadata": {
    "scrolled": false
   },
   "outputs": [
    {
     "data": {
      "text/plain": [
       "['Unnamed: 0_x',\n",
       " 'category',\n",
       " 'tech1',\n",
       " 'description',\n",
       " 'fit',\n",
       " 'title',\n",
       " 'also_buy',\n",
       " 'tech2',\n",
       " 'brand',\n",
       " 'feature',\n",
       " 'rank',\n",
       " 'also_view',\n",
       " 'main_cat',\n",
       " 'similar_item',\n",
       " 'date',\n",
       " 'price',\n",
       " 'asin',\n",
       " 'imageURL',\n",
       " 'imageURLHighRes',\n",
       " 'details',\n",
       " 'Unnamed: 0_y',\n",
       " 'rating',\n",
       " 'vote',\n",
       " 'verified',\n",
       " 'reviewTime',\n",
       " 'reviewerID',\n",
       " 'reviewerName',\n",
       " 'reviewText',\n",
       " 'summary',\n",
       " 'unixReviewTime',\n",
       " 'image']"
      ]
     },
     "execution_count": 71,
     "metadata": {},
     "output_type": "execute_result"
    },
    {
     "data": {
      "text/plain": [
       "['rating', 'asin', 'reviewText', 'summary']"
      ]
     },
     "execution_count": 71,
     "metadata": {},
     "output_type": "execute_result"
    },
    {
     "data": {
      "text/plain": [
       "(8166, 4)"
      ]
     },
     "execution_count": 71,
     "metadata": {},
     "output_type": "execute_result"
    },
    {
     "data": {
      "text/html": [
       "<div>\n",
       "<style scoped>\n",
       "    .dataframe tbody tr th:only-of-type {\n",
       "        vertical-align: middle;\n",
       "    }\n",
       "\n",
       "    .dataframe tbody tr th {\n",
       "        vertical-align: top;\n",
       "    }\n",
       "\n",
       "    .dataframe thead th {\n",
       "        text-align: right;\n",
       "    }\n",
       "</style>\n",
       "<table border=\"1\" class=\"dataframe\">\n",
       "  <thead>\n",
       "    <tr style=\"text-align: right;\">\n",
       "      <th></th>\n",
       "      <th>rating</th>\n",
       "      <th>asin</th>\n",
       "      <th>reviewText</th>\n",
       "      <th>summary</th>\n",
       "    </tr>\n",
       "  </thead>\n",
       "  <tbody>\n",
       "    <tr>\n",
       "      <th>0</th>\n",
       "      <td>2.0</td>\n",
       "      <td>B00004R9VV</td>\n",
       "      <td>Poor product. It will kill insects after it is...</td>\n",
       "      <td>Flowtron Insect Killer</td>\n",
       "    </tr>\n",
       "    <tr>\n",
       "      <th>1</th>\n",
       "      <td>5.0</td>\n",
       "      <td>B00004R9VV</td>\n",
       "      <td>This bug popper really does a great job. You d...</td>\n",
       "      <td>Works Great!</td>\n",
       "    </tr>\n",
       "    <tr>\n",
       "      <th>2</th>\n",
       "      <td>1.0</td>\n",
       "      <td>B00004R9VV</td>\n",
       "      <td>It seemed to be doing the job. Then after less...</td>\n",
       "      <td>Already Broke!</td>\n",
       "    </tr>\n",
       "  </tbody>\n",
       "</table>\n",
       "</div>"
      ],
      "text/plain": [
       "   rating        asin                                         reviewText  \\\n",
       "0     2.0  B00004R9VV  Poor product. It will kill insects after it is...   \n",
       "1     5.0  B00004R9VV  This bug popper really does a great job. You d...   \n",
       "2     1.0  B00004R9VV  It seemed to be doing the job. Then after less...   \n",
       "\n",
       "                  summary  \n",
       "0  Flowtron Insect Killer  \n",
       "1            Works Great!  \n",
       "2          Already Broke!  "
      ]
     },
     "execution_count": 71,
     "metadata": {},
     "output_type": "execute_result"
    }
   ],
   "source": [
    "# Choose the features (column names) that we want to work with:  rating, asin (product number), reviewText and summary\n",
    "\n",
    "list(Prod_merge)              # to see all the column names\n",
    "feat1 = ['rating',\n",
    " 'asin',\n",
    " 'reviewText',\n",
    " 'summary']\n",
    "\n",
    "feat1\n",
    "\n",
    "# Create a df that includes the one hundred products with the most ratings = 1.  This will generate at dataset that has a \n",
    "# a variety of flaws that we can build recommendations upon.\n",
    "\n",
    "Prod_merge = Prod_merge[feat1]\n",
    "Prod_merge.shape\n",
    "Prod_merge.head(3)"
   ]
  },
  {
   "cell_type": "code",
   "execution_count": 72,
   "id": "2c00d40d",
   "metadata": {
    "scrolled": false
   },
   "outputs": [
    {
     "data": {
      "text/plain": [
       "count    8166.000000\n",
       "mean        4.112907\n",
       "std         1.343871\n",
       "min         1.000000\n",
       "25%         4.000000\n",
       "50%         5.000000\n",
       "75%         5.000000\n",
       "max         5.000000\n",
       "Name: rating, dtype: float64"
      ]
     },
     "execution_count": 72,
     "metadata": {},
     "output_type": "execute_result"
    },
    {
     "data": {
      "text/plain": [
       "rating        float64\n",
       "asin           object\n",
       "reviewText     object\n",
       "summary        object\n",
       "dtype: object"
      ]
     },
     "execution_count": 72,
     "metadata": {},
     "output_type": "execute_result"
    }
   ],
   "source": [
    "# For Product B00004R9VV  (Flowtron Bug Killer), average rating is 4.11 stars\n",
    "\n",
    "Prod_merge.rating.describe()\n",
    "Prod_merge.dtypes"
   ]
  },
  {
   "cell_type": "code",
   "execution_count": 73,
   "id": "98b4c33b",
   "metadata": {
    "scrolled": true
   },
   "outputs": [
    {
     "data": {
      "text/plain": [
       "<Figure size 720x432 with 0 Axes>"
      ]
     },
     "execution_count": 73,
     "metadata": {},
     "output_type": "execute_result"
    },
    {
     "data": {
      "text/plain": [
       "<AxesSubplot:xlabel='rating', ylabel='count'>"
      ]
     },
     "execution_count": 73,
     "metadata": {},
     "output_type": "execute_result"
    },
    {
     "data": {
      "text/plain": [
       "Text(0.5, 1.0, 'Electronic Insect Killer Star Review Counts  \\n')"
      ]
     },
     "execution_count": 73,
     "metadata": {},
     "output_type": "execute_result"
    },
    {
     "data": {
      "text/plain": [
       "(array([   0., 1000., 2000., 3000., 4000., 5000., 6000.]),\n",
       " [Text(0, 0, ''),\n",
       "  Text(0, 0, ''),\n",
       "  Text(0, 0, ''),\n",
       "  Text(0, 0, ''),\n",
       "  Text(0, 0, ''),\n",
       "  Text(0, 0, ''),\n",
       "  Text(0, 0, '')])"
      ]
     },
     "execution_count": 73,
     "metadata": {},
     "output_type": "execute_result"
    },
    {
     "data": {
      "text/plain": [
       "Text(0, 0.5, 'Count of Star Ratings')"
      ]
     },
     "execution_count": 73,
     "metadata": {},
     "output_type": "execute_result"
    },
    {
     "data": {
      "text/plain": [
       "Text(0.5, 0, 'Star Rating')"
      ]
     },
     "execution_count": 73,
     "metadata": {},
     "output_type": "execute_result"
    },
    {
     "data": {
      "image/png": "[encoded data removed]",
      "text/plain": [
       "<Figure size 720x432 with 1 Axes>"
      ]
     },
     "metadata": {
      "needs_background": "light"
     },
     "output_type": "display_data"
    }
   ],
   "source": [
    " # plot grouped bar chart\n",
    "    \n",
    "plt.figure(figsize=(10,6)) \n",
    "sns.countplot(x='rating', data=df)\n",
    "plt.title('Electronic Insect Killer Star Review Counts  \\n', fontsize = 22)\n",
    "# plt.xticks(rotation = 25, horizontalalignment='right', fontsize  = 14)\n",
    "plt.yticks(fontsize = 20)\n",
    "plt.ylabel('Count of Star Ratings', fontsize=16)\n",
    "plt.xlabel('Star Rating', fontsize=16)"
   ]
  },
  {
   "cell_type": "markdown",
   "id": "2ec6164d",
   "metadata": {},
   "source": [
    "### Do NLP Treatment on Electronic Insect Killer\n",
    "\n",
    "This is an interesting product because almost 2000 reviews are Negative (1, 2 and 3-star reviews). What are the product flaws that are most prevalent in these negative reviews?\n",
    "\n",
    "Do NLP Treatment on Electronic Insect Killer\n",
    "\n",
    "* B00004R9VV     832   Electronic Insect Killer    --              $70, interesting\n"
   ]
  },
  {
   "cell_type": "markdown",
   "id": "8e1a4600",
   "metadata": {},
   "source": [
    "###  Preprocess Text Data"
   ]
  },
  {
   "cell_type": "code",
   "execution_count": 74,
   "id": "799399bf",
   "metadata": {
    "scrolled": false
   },
   "outputs": [
    {
     "data": {
      "text/plain": [
       "0    Poor product. It will kill insects after it is...\n",
       "Name: reviewText, dtype: object"
      ]
     },
     "execution_count": 74,
     "metadata": {},
     "output_type": "execute_result"
    }
   ],
   "source": [
    "Prod_merge.reviewText.head(1)"
   ]
  },
  {
   "cell_type": "code",
   "execution_count": 75,
   "id": "2c66ee1e",
   "metadata": {
    "scrolled": false
   },
   "outputs": [
    {
     "data": {
      "text/plain": [
       "'\\nDefine stop_words and use the pre-process function (defined above) to pre-process the review_words in Prod_merge\\nPreprocess the text:\\n    Combine the review and summary text fields\\n    Make text lower case, take out common words (like ‘the’), take out words with 3 or fewer characters, ignore special characters, tokenize the words\\n'"
      ]
     },
     "execution_count": 75,
     "metadata": {},
     "output_type": "execute_result"
    },
    {
     "name": "stderr",
     "output_type": "stream",
     "text": [
      "<ipython-input-65-ac493a8addc8>:17: FutureWarning: The default value of regex will change from True to False in a future version.\n",
      "  df['review_words'] = df['review_words'].str.replace(\"[^a-zA-Z+%0-9]\", \" \")\n"
     ]
    }
   ],
   "source": [
    "'''\n",
    "Define stop_words and use the pre-process function (defined above) to pre-process the review_words in Prod_merge\n",
    "Preprocess the text:\n",
    "    Combine the review and summary text fields\n",
    "    Make text lower case, take out common words (like ‘the’), take out words with 3 or fewer characters, ignore special characters, tokenize the words\n",
    "'''\n",
    "stop_words = stopwords.words('english')\n",
    "df = preprocess(Prod_merge, stop_words)\n",
    "\n",
    "# NOTE !!!!!!    Do not do this twice or more- it repeats the concatenation."
   ]
  },
  {
   "cell_type": "code",
   "execution_count": 76,
   "id": "3cd573c6",
   "metadata": {
    "scrolled": false
   },
   "outputs": [
    {
     "data": {
      "text/plain": [
       "bugs        4030\n",
       "works       3234\n",
       "great       2889\n",
       "one         2670\n",
       "bug         2279\n",
       "            ... \n",
       "altough        1\n",
       "x12            1\n",
       "atracted       1\n",
       "alarmed        1\n",
       "forming        1\n",
       "Length: 10683, dtype: int64"
      ]
     },
     "execution_count": 76,
     "metadata": {},
     "output_type": "execute_result"
    }
   ],
   "source": [
    "# Let's count the most common terms in the 'name' column   ADAPTED FROM CAPSTONE AND MEL\n",
    "df.review_words.str.split(expand=True).stack().value_counts()"
   ]
  },
  {
   "cell_type": "markdown",
   "id": "06e300e5",
   "metadata": {},
   "source": [
    "### Use TFIDF to Vectorize, Use Random Forest to Predict"
   ]
  },
  {
   "cell_type": "code",
   "execution_count": 77,
   "id": "cf176b34",
   "metadata": {
    "scrolled": false
   },
   "outputs": [
    {
     "name": "stderr",
     "output_type": "stream",
     "text": [
      "C:\\Users\\lucin\\anaconda3\\lib\\site-packages\\IPython\\core\\interactiveshell.py:3357: DtypeWarning: Columns (2) have mixed types.Specify dtype option on import or set low_memory=False.\n",
      "  if (await self.run_code(code, result,  async_=asy)):\n",
      "C:\\Users\\lucin\\anaconda3\\lib\\site-packages\\IPython\\core\\interactiveshell.py:3357: DtypeWarning: Columns (7) have mixed types.Specify dtype option on import or set low_memory=False.\n",
      "  if (await self.run_code(code, result,  async_=asy)):\n"
     ]
    },
    {
     "data": {
      "text/html": [
       "<div>\n",
       "<style scoped>\n",
       "    .dataframe tbody tr th:only-of-type {\n",
       "        vertical-align: middle;\n",
       "    }\n",
       "\n",
       "    .dataframe tbody tr th {\n",
       "        vertical-align: top;\n",
       "    }\n",
       "\n",
       "    .dataframe thead th {\n",
       "        text-align: right;\n",
       "    }\n",
       "</style>\n",
       "<table border=\"1\" class=\"dataframe\">\n",
       "  <thead>\n",
       "    <tr style=\"text-align: right;\">\n",
       "      <th></th>\n",
       "      <th>Unnamed: 0_x</th>\n",
       "      <th>category</th>\n",
       "      <th>tech1</th>\n",
       "      <th>description</th>\n",
       "      <th>fit</th>\n",
       "      <th>title</th>\n",
       "      <th>also_buy</th>\n",
       "      <th>tech2</th>\n",
       "      <th>brand</th>\n",
       "      <th>feature</th>\n",
       "      <th>...</th>\n",
       "      <th>rating</th>\n",
       "      <th>vote</th>\n",
       "      <th>verified</th>\n",
       "      <th>reviewTime</th>\n",
       "      <th>reviewerID</th>\n",
       "      <th>reviewerName</th>\n",
       "      <th>reviewText</th>\n",
       "      <th>summary</th>\n",
       "      <th>unixReviewTime</th>\n",
       "      <th>image</th>\n",
       "    </tr>\n",
       "  </thead>\n",
       "  <tbody>\n",
       "    <tr>\n",
       "      <th>0</th>\n",
       "      <td>425</td>\n",
       "      <td>['Patio, Lawn &amp; Garden', 'Pest Control', 'Bug ...</td>\n",
       "      <td>NaN</td>\n",
       "      <td>[\"Are you troubled by more insects than you ca...</td>\n",
       "      <td>NaN</td>\n",
       "      <td>Flowtron BK-80D 80-Watt Electronic Insect Kill...</td>\n",
       "      <td>['B000063XHT', 'B00004R9VX', 'B00004R9W5', 'B0...</td>\n",
       "      <td>NaN</td>\n",
       "      <td>Flowtron</td>\n",
       "      <td>['High efficiency, non-clogging killing grid, ...</td>\n",
       "      <td>...</td>\n",
       "      <td>2.0</td>\n",
       "      <td>7</td>\n",
       "      <td>False</td>\n",
       "      <td>06 3, 2002</td>\n",
       "      <td>A1JYVOX5AX65N9</td>\n",
       "      <td>Julia</td>\n",
       "      <td>Poor product. It will kill insects after it is...</td>\n",
       "      <td>Flowtron Insect Killer</td>\n",
       "      <td>1023062400</td>\n",
       "      <td>NaN</td>\n",
       "    </tr>\n",
       "    <tr>\n",
       "      <th>1</th>\n",
       "      <td>425</td>\n",
       "      <td>['Patio, Lawn &amp; Garden', 'Pest Control', 'Bug ...</td>\n",
       "      <td>NaN</td>\n",
       "      <td>[\"Are you troubled by more insects than you ca...</td>\n",
       "      <td>NaN</td>\n",
       "      <td>Flowtron BK-80D 80-Watt Electronic Insect Kill...</td>\n",
       "      <td>['B000063XHT', 'B00004R9VX', 'B00004R9W5', 'B0...</td>\n",
       "      <td>NaN</td>\n",
       "      <td>Flowtron</td>\n",
       "      <td>['High efficiency, non-clogging killing grid, ...</td>\n",
       "      <td>...</td>\n",
       "      <td>5.0</td>\n",
       "      <td>20</td>\n",
       "      <td>False</td>\n",
       "      <td>06 1, 2002</td>\n",
       "      <td>A2J2SZC2H8N0WZ</td>\n",
       "      <td>Ross</td>\n",
       "      <td>This bug popper really does a great job. You d...</td>\n",
       "      <td>Works Great!</td>\n",
       "      <td>1022889600</td>\n",
       "      <td>NaN</td>\n",
       "    </tr>\n",
       "    <tr>\n",
       "      <th>2</th>\n",
       "      <td>425</td>\n",
       "      <td>['Patio, Lawn &amp; Garden', 'Pest Control', 'Bug ...</td>\n",
       "      <td>NaN</td>\n",
       "      <td>[\"Are you troubled by more insects than you ca...</td>\n",
       "      <td>NaN</td>\n",
       "      <td>Flowtron BK-80D 80-Watt Electronic Insect Kill...</td>\n",
       "      <td>['B000063XHT', 'B00004R9VX', 'B00004R9W5', 'B0...</td>\n",
       "      <td>NaN</td>\n",
       "      <td>Flowtron</td>\n",
       "      <td>['High efficiency, non-clogging killing grid, ...</td>\n",
       "      <td>...</td>\n",
       "      <td>1.0</td>\n",
       "      <td>33</td>\n",
       "      <td>True</td>\n",
       "      <td>04 27, 2002</td>\n",
       "      <td>ANIATM2KZ3OP7</td>\n",
       "      <td>Hugh D. Murray</td>\n",
       "      <td>It seemed to be doing the job. Then after less...</td>\n",
       "      <td>Already Broke!</td>\n",
       "      <td>1019865600</td>\n",
       "      <td>NaN</td>\n",
       "    </tr>\n",
       "  </tbody>\n",
       "</table>\n",
       "<p>3 rows × 31 columns</p>\n",
       "</div>"
      ],
      "text/plain": [
       "   Unnamed: 0_x                                           category tech1  \\\n",
       "0           425  ['Patio, Lawn & Garden', 'Pest Control', 'Bug ...   NaN   \n",
       "1           425  ['Patio, Lawn & Garden', 'Pest Control', 'Bug ...   NaN   \n",
       "2           425  ['Patio, Lawn & Garden', 'Pest Control', 'Bug ...   NaN   \n",
       "\n",
       "                                         description  fit  \\\n",
       "0  [\"Are you troubled by more insects than you ca...  NaN   \n",
       "1  [\"Are you troubled by more insects than you ca...  NaN   \n",
       "2  [\"Are you troubled by more insects than you ca...  NaN   \n",
       "\n",
       "                                               title  \\\n",
       "0  Flowtron BK-80D 80-Watt Electronic Insect Kill...   \n",
       "1  Flowtron BK-80D 80-Watt Electronic Insect Kill...   \n",
       "2  Flowtron BK-80D 80-Watt Electronic Insect Kill...   \n",
       "\n",
       "                                            also_buy tech2     brand  \\\n",
       "0  ['B000063XHT', 'B00004R9VX', 'B00004R9W5', 'B0...   NaN  Flowtron   \n",
       "1  ['B000063XHT', 'B00004R9VX', 'B00004R9W5', 'B0...   NaN  Flowtron   \n",
       "2  ['B000063XHT', 'B00004R9VX', 'B00004R9W5', 'B0...   NaN  Flowtron   \n",
       "\n",
       "                                             feature  ... rating vote  \\\n",
       "0  ['High efficiency, non-clogging killing grid, ...  ...    2.0    7   \n",
       "1  ['High efficiency, non-clogging killing grid, ...  ...    5.0   20   \n",
       "2  ['High efficiency, non-clogging killing grid, ...  ...    1.0   33   \n",
       "\n",
       "  verified   reviewTime      reviewerID    reviewerName  \\\n",
       "0    False   06 3, 2002  A1JYVOX5AX65N9           Julia   \n",
       "1    False   06 1, 2002  A2J2SZC2H8N0WZ            Ross   \n",
       "2     True  04 27, 2002   ANIATM2KZ3OP7  Hugh D. Murray   \n",
       "\n",
       "                                          reviewText                 summary  \\\n",
       "0  Poor product. It will kill insects after it is...  Flowtron Insect Killer   \n",
       "1  This bug popper really does a great job. You d...            Works Great!   \n",
       "2  It seemed to be doing the job. Then after less...          Already Broke!   \n",
       "\n",
       "  unixReviewTime image  \n",
       "0     1023062400   NaN  \n",
       "1     1022889600   NaN  \n",
       "2     1019865600   NaN  \n",
       "\n",
       "[3 rows x 31 columns]"
      ]
     },
     "execution_count": 77,
     "metadata": {},
     "output_type": "execute_result"
    },
    {
     "data": {
      "text/plain": [
       "Unnamed: 0_x          0\n",
       "category              0\n",
       "tech1              8166\n",
       "description           0\n",
       "fit                8166\n",
       "title                 0\n",
       "also_buy              0\n",
       "tech2              8166\n",
       "brand                 0\n",
       "feature               0\n",
       "rank                  0\n",
       "also_view             0\n",
       "main_cat              0\n",
       "similar_item          0\n",
       "date               8166\n",
       "price                 0\n",
       "asin                  0\n",
       "imageURL              0\n",
       "imageURLHighRes       0\n",
       "details               0\n",
       "Unnamed: 0_y          0\n",
       "rating                0\n",
       "vote               7291\n",
       "verified              0\n",
       "reviewTime            0\n",
       "reviewerID            0\n",
       "reviewerName          0\n",
       "reviewText            0\n",
       "summary               0\n",
       "unixReviewTime        0\n",
       "image              8050\n",
       "dtype: int64"
      ]
     },
     "execution_count": 77,
     "metadata": {},
     "output_type": "execute_result"
    }
   ],
   "source": [
    "# Use the load_merge function to load the review and meta datasets, filter to one product, and merge the data for that product\n",
    "\n",
    "# Take a subset of data, specifically one product   B00004R9VV  Flowtron Insect Killer\n",
    "# For this product there should be 8166 rows and 31 columns in the Prod_merge output\n",
    "\n",
    "Prod_merge = load_merge(\"Meta_Dataset.csv\", \"Reviews_Dataset.csv\"   , 'B00004R9VV')    # OR  B00004R9VV\n",
    "Prod_merge.head(3)\n",
    "\n",
    "# Check for nulls in each column\n",
    "\n",
    "df = Prod_merge\n",
    "df.isnull().sum(axis = 0)\n"
   ]
  },
  {
   "cell_type": "code",
   "execution_count": 78,
   "id": "04c7cbbe",
   "metadata": {
    "scrolled": false
   },
   "outputs": [
    {
     "data": {
      "text/plain": [
       "['rating', 'asin', 'reviewText', 'summary']"
      ]
     },
     "execution_count": 78,
     "metadata": {},
     "output_type": "execute_result"
    },
    {
     "data": {
      "text/plain": [
       "(8166, 4)"
      ]
     },
     "execution_count": 78,
     "metadata": {},
     "output_type": "execute_result"
    }
   ],
   "source": [
    "# Choose the features (column names) that we want to work with\n",
    "\n",
    "# list(Prod_merge)\n",
    "feat1 = ['rating',\n",
    " 'asin',\n",
    " 'reviewText',\n",
    " 'summary']\n",
    "\n",
    "feat1\n",
    "\n",
    "# Create a df that includes the one hundred products with the most ratings = 1.  This will generate at dataset that has a \n",
    "# a variety of flaws that we can build recommendations upon.\n",
    "\n",
    "Prod_merge = Prod_merge[feat1]\n",
    "Prod_merge.shape\n",
    "# Prod_merge.head(3)\n"
   ]
  },
  {
   "cell_type": "code",
   "execution_count": 79,
   "id": "9a82e606",
   "metadata": {
    "scrolled": false
   },
   "outputs": [
    {
     "name": "stderr",
     "output_type": "stream",
     "text": [
      "<ipython-input-65-ac493a8addc8>:17: FutureWarning: The default value of regex will change from True to False in a future version.\n",
      "  df['review_words'] = df['review_words'].str.replace(\"[^a-zA-Z+%0-9]\", \" \")\n"
     ]
    }
   ],
   "source": [
    "# Define stop_words and use the pre-process function to pre-process the review_words in Prod_merge\n",
    "\n",
    "stop_words = stopwords.words('english')\n",
    "df = preprocess(Prod_merge, stop_words)\n",
    "\n",
    "# NOTE !!!!!!    Do not do this twice or more- it repeats the concatenation."
   ]
  },
  {
   "cell_type": "code",
   "execution_count": 80,
   "id": "387b123d",
   "metadata": {
    "scrolled": false
   },
   "outputs": [
    {
     "data": {
      "text/plain": [
       "bugs        4030\n",
       "works       3234\n",
       "great       2889\n",
       "one         2670\n",
       "bug         2279\n",
       "            ... \n",
       "altough        1\n",
       "x12            1\n",
       "atracted       1\n",
       "alarmed        1\n",
       "forming        1\n",
       "Length: 10683, dtype: int64"
      ]
     },
     "execution_count": 80,
     "metadata": {},
     "output_type": "execute_result"
    }
   ],
   "source": [
    "# Let's count the most common terms in the 'name' column   ADAPTED FROM CAPSTONE AND MEL\n",
    "df.review_words.str.split(expand=True).stack().value_counts()"
   ]
  },
  {
   "cell_type": "code",
   "execution_count": 81,
   "id": "155c5b0a",
   "metadata": {
    "scrolled": false
   },
   "outputs": [
    {
     "data": {
      "text/plain": [
       "<8166x24575 sparse matrix of type '<class 'numpy.float64'>'\n",
       "\twith 100348 stored elements in Compressed Sparse Row format>"
      ]
     },
     "execution_count": 81,
     "metadata": {},
     "output_type": "execute_result"
    },
    {
     "name": "stdout",
     "output_type": "stream",
     "text": [
      "dtm shape is:  (8166, 24575)\n",
      "Here is part of the Trigram table\n",
      "bow shape is:  (8166, 24575)\n"
     ]
    },
    {
     "data": {
      "text/html": [
       "<div>\n",
       "<style scoped>\n",
       "    .dataframe tbody tr th:only-of-type {\n",
       "        vertical-align: middle;\n",
       "    }\n",
       "\n",
       "    .dataframe tbody tr th {\n",
       "        vertical-align: top;\n",
       "    }\n",
       "\n",
       "    .dataframe thead th {\n",
       "        text-align: right;\n",
       "    }\n",
       "</style>\n",
       "<table border=\"1\" class=\"dataframe\">\n",
       "  <thead>\n",
       "    <tr style=\"text-align: right;\">\n",
       "      <th></th>\n",
       "      <th>000 mosquitoes</th>\n",
       "      <th>000 yard</th>\n",
       "      <th>100 acres</th>\n",
       "      <th>100 away</th>\n",
       "      <th>100 bug</th>\n",
       "      <th>100 bug free</th>\n",
       "      <th>100 bugs</th>\n",
       "      <th>100 failure</th>\n",
       "      <th>100 failure rate</th>\n",
       "      <th>100 feet</th>\n",
       "      <th>...</th>\n",
       "      <th>zika virus mosquito</th>\n",
       "      <th>zika works</th>\n",
       "      <th>zillions bugs</th>\n",
       "      <th>zip lock</th>\n",
       "      <th>zip sound</th>\n",
       "      <th>zip tie</th>\n",
       "      <th>zip ties</th>\n",
       "      <th>zip zap</th>\n",
       "      <th>zip zip</th>\n",
       "      <th>zip zip zap</th>\n",
       "    </tr>\n",
       "  </thead>\n",
       "  <tbody>\n",
       "    <tr>\n",
       "      <th>0</th>\n",
       "      <td>0.0</td>\n",
       "      <td>0.0</td>\n",
       "      <td>0.0</td>\n",
       "      <td>0.0</td>\n",
       "      <td>0.0</td>\n",
       "      <td>0.0</td>\n",
       "      <td>0.0</td>\n",
       "      <td>0.0</td>\n",
       "      <td>0.0</td>\n",
       "      <td>0.0</td>\n",
       "      <td>...</td>\n",
       "      <td>0.0</td>\n",
       "      <td>0.0</td>\n",
       "      <td>0.0</td>\n",
       "      <td>0.0</td>\n",
       "      <td>0.0</td>\n",
       "      <td>0.0</td>\n",
       "      <td>0.0</td>\n",
       "      <td>0.0</td>\n",
       "      <td>0.0</td>\n",
       "      <td>0.0</td>\n",
       "    </tr>\n",
       "    <tr>\n",
       "      <th>1</th>\n",
       "      <td>0.0</td>\n",
       "      <td>0.0</td>\n",
       "      <td>0.0</td>\n",
       "      <td>0.0</td>\n",
       "      <td>0.0</td>\n",
       "      <td>0.0</td>\n",
       "      <td>0.0</td>\n",
       "      <td>0.0</td>\n",
       "      <td>0.0</td>\n",
       "      <td>0.0</td>\n",
       "      <td>...</td>\n",
       "      <td>0.0</td>\n",
       "      <td>0.0</td>\n",
       "      <td>0.0</td>\n",
       "      <td>0.0</td>\n",
       "      <td>0.0</td>\n",
       "      <td>0.0</td>\n",
       "      <td>0.0</td>\n",
       "      <td>0.0</td>\n",
       "      <td>0.0</td>\n",
       "      <td>0.0</td>\n",
       "    </tr>\n",
       "    <tr>\n",
       "      <th>2</th>\n",
       "      <td>0.0</td>\n",
       "      <td>0.0</td>\n",
       "      <td>0.0</td>\n",
       "      <td>0.0</td>\n",
       "      <td>0.0</td>\n",
       "      <td>0.0</td>\n",
       "      <td>0.0</td>\n",
       "      <td>0.0</td>\n",
       "      <td>0.0</td>\n",
       "      <td>0.0</td>\n",
       "      <td>...</td>\n",
       "      <td>0.0</td>\n",
       "      <td>0.0</td>\n",
       "      <td>0.0</td>\n",
       "      <td>0.0</td>\n",
       "      <td>0.0</td>\n",
       "      <td>0.0</td>\n",
       "      <td>0.0</td>\n",
       "      <td>0.0</td>\n",
       "      <td>0.0</td>\n",
       "      <td>0.0</td>\n",
       "    </tr>\n",
       "    <tr>\n",
       "      <th>3</th>\n",
       "      <td>0.0</td>\n",
       "      <td>0.0</td>\n",
       "      <td>0.0</td>\n",
       "      <td>0.0</td>\n",
       "      <td>0.0</td>\n",
       "      <td>0.0</td>\n",
       "      <td>0.0</td>\n",
       "      <td>0.0</td>\n",
       "      <td>0.0</td>\n",
       "      <td>0.0</td>\n",
       "      <td>...</td>\n",
       "      <td>0.0</td>\n",
       "      <td>0.0</td>\n",
       "      <td>0.0</td>\n",
       "      <td>0.0</td>\n",
       "      <td>0.0</td>\n",
       "      <td>0.0</td>\n",
       "      <td>0.0</td>\n",
       "      <td>0.0</td>\n",
       "      <td>0.0</td>\n",
       "      <td>0.0</td>\n",
       "    </tr>\n",
       "    <tr>\n",
       "      <th>4</th>\n",
       "      <td>0.0</td>\n",
       "      <td>0.0</td>\n",
       "      <td>0.0</td>\n",
       "      <td>0.0</td>\n",
       "      <td>0.0</td>\n",
       "      <td>0.0</td>\n",
       "      <td>0.0</td>\n",
       "      <td>0.0</td>\n",
       "      <td>0.0</td>\n",
       "      <td>0.0</td>\n",
       "      <td>...</td>\n",
       "      <td>0.0</td>\n",
       "      <td>0.0</td>\n",
       "      <td>0.0</td>\n",
       "      <td>0.0</td>\n",
       "      <td>0.0</td>\n",
       "      <td>0.0</td>\n",
       "      <td>0.0</td>\n",
       "      <td>0.0</td>\n",
       "      <td>0.0</td>\n",
       "      <td>0.0</td>\n",
       "    </tr>\n",
       "    <tr>\n",
       "      <th>...</th>\n",
       "      <td>...</td>\n",
       "      <td>...</td>\n",
       "      <td>...</td>\n",
       "      <td>...</td>\n",
       "      <td>...</td>\n",
       "      <td>...</td>\n",
       "      <td>...</td>\n",
       "      <td>...</td>\n",
       "      <td>...</td>\n",
       "      <td>...</td>\n",
       "      <td>...</td>\n",
       "      <td>...</td>\n",
       "      <td>...</td>\n",
       "      <td>...</td>\n",
       "      <td>...</td>\n",
       "      <td>...</td>\n",
       "      <td>...</td>\n",
       "      <td>...</td>\n",
       "      <td>...</td>\n",
       "      <td>...</td>\n",
       "      <td>...</td>\n",
       "    </tr>\n",
       "    <tr>\n",
       "      <th>8161</th>\n",
       "      <td>0.0</td>\n",
       "      <td>0.0</td>\n",
       "      <td>0.0</td>\n",
       "      <td>0.0</td>\n",
       "      <td>0.0</td>\n",
       "      <td>0.0</td>\n",
       "      <td>0.0</td>\n",
       "      <td>0.0</td>\n",
       "      <td>0.0</td>\n",
       "      <td>0.0</td>\n",
       "      <td>...</td>\n",
       "      <td>0.0</td>\n",
       "      <td>0.0</td>\n",
       "      <td>0.0</td>\n",
       "      <td>0.0</td>\n",
       "      <td>0.0</td>\n",
       "      <td>0.0</td>\n",
       "      <td>0.0</td>\n",
       "      <td>0.0</td>\n",
       "      <td>0.0</td>\n",
       "      <td>0.0</td>\n",
       "    </tr>\n",
       "    <tr>\n",
       "      <th>8162</th>\n",
       "      <td>0.0</td>\n",
       "      <td>0.0</td>\n",
       "      <td>0.0</td>\n",
       "      <td>0.0</td>\n",
       "      <td>0.0</td>\n",
       "      <td>0.0</td>\n",
       "      <td>0.0</td>\n",
       "      <td>0.0</td>\n",
       "      <td>0.0</td>\n",
       "      <td>0.0</td>\n",
       "      <td>...</td>\n",
       "      <td>0.0</td>\n",
       "      <td>0.0</td>\n",
       "      <td>0.0</td>\n",
       "      <td>0.0</td>\n",
       "      <td>0.0</td>\n",
       "      <td>0.0</td>\n",
       "      <td>0.0</td>\n",
       "      <td>0.0</td>\n",
       "      <td>0.0</td>\n",
       "      <td>0.0</td>\n",
       "    </tr>\n",
       "    <tr>\n",
       "      <th>8163</th>\n",
       "      <td>0.0</td>\n",
       "      <td>0.0</td>\n",
       "      <td>0.0</td>\n",
       "      <td>0.0</td>\n",
       "      <td>0.0</td>\n",
       "      <td>0.0</td>\n",
       "      <td>0.0</td>\n",
       "      <td>0.0</td>\n",
       "      <td>0.0</td>\n",
       "      <td>0.0</td>\n",
       "      <td>...</td>\n",
       "      <td>0.0</td>\n",
       "      <td>0.0</td>\n",
       "      <td>0.0</td>\n",
       "      <td>0.0</td>\n",
       "      <td>0.0</td>\n",
       "      <td>0.0</td>\n",
       "      <td>0.0</td>\n",
       "      <td>0.0</td>\n",
       "      <td>0.0</td>\n",
       "      <td>0.0</td>\n",
       "    </tr>\n",
       "    <tr>\n",
       "      <th>8164</th>\n",
       "      <td>0.0</td>\n",
       "      <td>0.0</td>\n",
       "      <td>0.0</td>\n",
       "      <td>0.0</td>\n",
       "      <td>0.0</td>\n",
       "      <td>0.0</td>\n",
       "      <td>0.0</td>\n",
       "      <td>0.0</td>\n",
       "      <td>0.0</td>\n",
       "      <td>0.0</td>\n",
       "      <td>...</td>\n",
       "      <td>0.0</td>\n",
       "      <td>0.0</td>\n",
       "      <td>0.0</td>\n",
       "      <td>0.0</td>\n",
       "      <td>0.0</td>\n",
       "      <td>0.0</td>\n",
       "      <td>0.0</td>\n",
       "      <td>0.0</td>\n",
       "      <td>0.0</td>\n",
       "      <td>0.0</td>\n",
       "    </tr>\n",
       "    <tr>\n",
       "      <th>8165</th>\n",
       "      <td>0.0</td>\n",
       "      <td>0.0</td>\n",
       "      <td>0.0</td>\n",
       "      <td>0.0</td>\n",
       "      <td>0.0</td>\n",
       "      <td>0.0</td>\n",
       "      <td>0.0</td>\n",
       "      <td>0.0</td>\n",
       "      <td>0.0</td>\n",
       "      <td>0.0</td>\n",
       "      <td>...</td>\n",
       "      <td>0.0</td>\n",
       "      <td>0.0</td>\n",
       "      <td>0.0</td>\n",
       "      <td>0.0</td>\n",
       "      <td>0.0</td>\n",
       "      <td>0.0</td>\n",
       "      <td>0.0</td>\n",
       "      <td>0.0</td>\n",
       "      <td>0.0</td>\n",
       "      <td>0.0</td>\n",
       "    </tr>\n",
       "  </tbody>\n",
       "</table>\n",
       "<p>8166 rows × 24575 columns</p>\n",
       "</div>"
      ],
      "text/plain": [
       "      000 mosquitoes  000 yard  100 acres  100 away  100 bug  100 bug free  \\\n",
       "0                0.0       0.0        0.0       0.0      0.0           0.0   \n",
       "1                0.0       0.0        0.0       0.0      0.0           0.0   \n",
       "2                0.0       0.0        0.0       0.0      0.0           0.0   \n",
       "3                0.0       0.0        0.0       0.0      0.0           0.0   \n",
       "4                0.0       0.0        0.0       0.0      0.0           0.0   \n",
       "...              ...       ...        ...       ...      ...           ...   \n",
       "8161             0.0       0.0        0.0       0.0      0.0           0.0   \n",
       "8162             0.0       0.0        0.0       0.0      0.0           0.0   \n",
       "8163             0.0       0.0        0.0       0.0      0.0           0.0   \n",
       "8164             0.0       0.0        0.0       0.0      0.0           0.0   \n",
       "8165             0.0       0.0        0.0       0.0      0.0           0.0   \n",
       "\n",
       "      100 bugs  100 failure  100 failure rate  100 feet  ...  \\\n",
       "0          0.0          0.0               0.0       0.0  ...   \n",
       "1          0.0          0.0               0.0       0.0  ...   \n",
       "2          0.0          0.0               0.0       0.0  ...   \n",
       "3          0.0          0.0               0.0       0.0  ...   \n",
       "4          0.0          0.0               0.0       0.0  ...   \n",
       "...        ...          ...               ...       ...  ...   \n",
       "8161       0.0          0.0               0.0       0.0  ...   \n",
       "8162       0.0          0.0               0.0       0.0  ...   \n",
       "8163       0.0          0.0               0.0       0.0  ...   \n",
       "8164       0.0          0.0               0.0       0.0  ...   \n",
       "8165       0.0          0.0               0.0       0.0  ...   \n",
       "\n",
       "      zika virus mosquito  zika works  zillions bugs  zip lock  zip sound  \\\n",
       "0                     0.0         0.0            0.0       0.0        0.0   \n",
       "1                     0.0         0.0            0.0       0.0        0.0   \n",
       "2                     0.0         0.0            0.0       0.0        0.0   \n",
       "3                     0.0         0.0            0.0       0.0        0.0   \n",
       "4                     0.0         0.0            0.0       0.0        0.0   \n",
       "...                   ...         ...            ...       ...        ...   \n",
       "8161                  0.0         0.0            0.0       0.0        0.0   \n",
       "8162                  0.0         0.0            0.0       0.0        0.0   \n",
       "8163                  0.0         0.0            0.0       0.0        0.0   \n",
       "8164                  0.0         0.0            0.0       0.0        0.0   \n",
       "8165                  0.0         0.0            0.0       0.0        0.0   \n",
       "\n",
       "      zip tie  zip ties  zip zap  zip zip  zip zip zap  \n",
       "0         0.0       0.0      0.0      0.0          0.0  \n",
       "1         0.0       0.0      0.0      0.0          0.0  \n",
       "2         0.0       0.0      0.0      0.0          0.0  \n",
       "3         0.0       0.0      0.0      0.0          0.0  \n",
       "4         0.0       0.0      0.0      0.0          0.0  \n",
       "...       ...       ...      ...      ...          ...  \n",
       "8161      0.0       0.0      0.0      0.0          0.0  \n",
       "8162      0.0       0.0      0.0      0.0          0.0  \n",
       "8163      0.0       0.0      0.0      0.0          0.0  \n",
       "8164      0.0       0.0      0.0      0.0          0.0  \n",
       "8165      0.0       0.0      0.0      0.0          0.0  \n",
       "\n",
       "[8166 rows x 24575 columns]"
      ]
     },
     "execution_count": 81,
     "metadata": {},
     "output_type": "execute_result"
    },
    {
     "data": {
      "text/plain": [
       "(8166, 24580)"
      ]
     },
     "execution_count": 81,
     "metadata": {},
     "output_type": "execute_result"
    },
    {
     "data": {
      "text/html": [
       "<div>\n",
       "<style scoped>\n",
       "    .dataframe tbody tr th:only-of-type {\n",
       "        vertical-align: middle;\n",
       "    }\n",
       "\n",
       "    .dataframe tbody tr th {\n",
       "        vertical-align: top;\n",
       "    }\n",
       "\n",
       "    .dataframe thead th {\n",
       "        text-align: right;\n",
       "    }\n",
       "</style>\n",
       "<table border=\"1\" class=\"dataframe\">\n",
       "  <thead>\n",
       "    <tr style=\"text-align: right;\">\n",
       "      <th></th>\n",
       "      <th>rating</th>\n",
       "      <th>asin</th>\n",
       "      <th>reviewText</th>\n",
       "      <th>summary</th>\n",
       "      <th>review_words</th>\n",
       "      <th>000 mosquitoes</th>\n",
       "      <th>000 yard</th>\n",
       "      <th>100 acres</th>\n",
       "      <th>100 away</th>\n",
       "      <th>100 bug</th>\n",
       "      <th>...</th>\n",
       "      <th>zika virus mosquito</th>\n",
       "      <th>zika works</th>\n",
       "      <th>zillions bugs</th>\n",
       "      <th>zip lock</th>\n",
       "      <th>zip sound</th>\n",
       "      <th>zip tie</th>\n",
       "      <th>zip ties</th>\n",
       "      <th>zip zap</th>\n",
       "      <th>zip zip</th>\n",
       "      <th>zip zip zap</th>\n",
       "    </tr>\n",
       "  </thead>\n",
       "  <tbody>\n",
       "    <tr>\n",
       "      <th>0</th>\n",
       "      <td>2.0</td>\n",
       "      <td>B00004R9VV</td>\n",
       "      <td>Poor product. It will kill insects after it is...</td>\n",
       "      <td>Flowtron Insect Killer</td>\n",
       "      <td>poor product kill insects really dark outside ...</td>\n",
       "      <td>0.0</td>\n",
       "      <td>0.0</td>\n",
       "      <td>0.0</td>\n",
       "      <td>0.0</td>\n",
       "      <td>0.0</td>\n",
       "      <td>...</td>\n",
       "      <td>0.0</td>\n",
       "      <td>0.0</td>\n",
       "      <td>0.0</td>\n",
       "      <td>0.0</td>\n",
       "      <td>0.0</td>\n",
       "      <td>0.0</td>\n",
       "      <td>0.0</td>\n",
       "      <td>0.0</td>\n",
       "      <td>0.0</td>\n",
       "      <td>0.0</td>\n",
       "    </tr>\n",
       "    <tr>\n",
       "      <th>1</th>\n",
       "      <td>5.0</td>\n",
       "      <td>B00004R9VV</td>\n",
       "      <td>This bug popper really does a great job. You d...</td>\n",
       "      <td>Works Great!</td>\n",
       "      <td>bug popper really great job clean ever often r...</td>\n",
       "      <td>0.0</td>\n",
       "      <td>0.0</td>\n",
       "      <td>0.0</td>\n",
       "      <td>0.0</td>\n",
       "      <td>0.0</td>\n",
       "      <td>...</td>\n",
       "      <td>0.0</td>\n",
       "      <td>0.0</td>\n",
       "      <td>0.0</td>\n",
       "      <td>0.0</td>\n",
       "      <td>0.0</td>\n",
       "      <td>0.0</td>\n",
       "      <td>0.0</td>\n",
       "      <td>0.0</td>\n",
       "      <td>0.0</td>\n",
       "      <td>0.0</td>\n",
       "    </tr>\n",
       "    <tr>\n",
       "      <th>2</th>\n",
       "      <td>1.0</td>\n",
       "      <td>B00004R9VV</td>\n",
       "      <td>It seemed to be doing the job. Then after less...</td>\n",
       "      <td>Already Broke!</td>\n",
       "      <td>seemed job less year quit working bought new b...</td>\n",
       "      <td>0.0</td>\n",
       "      <td>0.0</td>\n",
       "      <td>0.0</td>\n",
       "      <td>0.0</td>\n",
       "      <td>0.0</td>\n",
       "      <td>...</td>\n",
       "      <td>0.0</td>\n",
       "      <td>0.0</td>\n",
       "      <td>0.0</td>\n",
       "      <td>0.0</td>\n",
       "      <td>0.0</td>\n",
       "      <td>0.0</td>\n",
       "      <td>0.0</td>\n",
       "      <td>0.0</td>\n",
       "      <td>0.0</td>\n",
       "      <td>0.0</td>\n",
       "    </tr>\n",
       "  </tbody>\n",
       "</table>\n",
       "<p>3 rows × 24580 columns</p>\n",
       "</div>"
      ],
      "text/plain": [
       "   rating        asin                                         reviewText  \\\n",
       "0     2.0  B00004R9VV  Poor product. It will kill insects after it is...   \n",
       "1     5.0  B00004R9VV  This bug popper really does a great job. You d...   \n",
       "2     1.0  B00004R9VV  It seemed to be doing the job. Then after less...   \n",
       "\n",
       "                  summary                                       review_words  \\\n",
       "0  Flowtron Insect Killer  poor product kill insects really dark outside ...   \n",
       "1            Works Great!  bug popper really great job clean ever often r...   \n",
       "2          Already Broke!  seemed job less year quit working bought new b...   \n",
       "\n",
       "   000 mosquitoes  000 yard  100 acres  100 away  100 bug  ...  \\\n",
       "0             0.0       0.0        0.0       0.0      0.0  ...   \n",
       "1             0.0       0.0        0.0       0.0      0.0  ...   \n",
       "2             0.0       0.0        0.0       0.0      0.0  ...   \n",
       "\n",
       "   zika virus mosquito  zika works  zillions bugs  zip lock  zip sound  \\\n",
       "0                  0.0         0.0            0.0       0.0        0.0   \n",
       "1                  0.0         0.0            0.0       0.0        0.0   \n",
       "2                  0.0         0.0            0.0       0.0        0.0   \n",
       "\n",
       "   zip tie  zip ties  zip zap  zip zip  zip zip zap  \n",
       "0      0.0       0.0      0.0      0.0          0.0  \n",
       "1      0.0       0.0      0.0      0.0          0.0  \n",
       "2      0.0       0.0      0.0      0.0          0.0  \n",
       "\n",
       "[3 rows x 24580 columns]"
      ]
     },
     "execution_count": 81,
     "metadata": {},
     "output_type": "execute_result"
    },
    {
     "name": "stdout",
     "output_type": "stream",
     "text": [
      "Sum of na's, by column:  rating          0\n",
      "asin            0\n",
      "reviewText      0\n",
      "summary         0\n",
      "review_words    0\n",
      "               ..\n",
      "zip tie         0\n",
      "zip ties        0\n",
      "zip zap         0\n",
      "zip zip         0\n",
      "zip zip zap     0\n",
      "Length: 24580, dtype: int64\n",
      "Sum of all na's in df:  0\n"
     ]
    },
    {
     "data": {
      "text/plain": [
       "(8166, 24580)"
      ]
     },
     "execution_count": 81,
     "metadata": {},
     "output_type": "execute_result"
    }
   ],
   "source": [
    "# Make N-grams (Uni-gram, Bi-gram or Tri-gram)\n",
    "\n",
    "# max_df - discard words that show up in x percent of documents has a scale 0 - 1\n",
    "# min_df - is the opposite, minimum frequency can be a percent or raw number of documents\n",
    "# ngram_range is normally (1,1) for single words, 2,2, for bi-grams, 3,3 for tri-grams\n",
    "\n",
    "from sklearn.feature_extraction.text import TfidfVectorizer\n",
    "tfidf_vectorizer = TfidfVectorizer(max_df=0.90, min_df=2, stop_words='english', ngram_range=(2,4))\n",
    "# TF-IDF feature matrix\n",
    "dtm = tfidf_vectorizer.fit_transform(df['review_words'])\n",
    "\n",
    "dtm\n",
    "\n",
    "print(\"dtm shape is: \",dtm.shape)\n",
    "\n",
    "# convert to dataframe for clustering\n",
    "bow = pd.DataFrame(dtm.toarray(), columns = tfidf_vectorizer.get_feature_names())\n",
    "print(\"Here is part of the Trigram table\")\n",
    "print(\"bow shape is: \", bow.shape)\n",
    "bow\n",
    "\n",
    "# To prevent concat creating many na's, reset the indices of both df and bow, so that they line up for the concat.\n",
    "df.reset_index(drop=True, inplace=True)\n",
    "bow.reset_index(drop=True, inplace=True)\n",
    "\n",
    "# Now concatenate df and bow (bag of words-- in this case tri-grams -- that represent each review)\n",
    "frames = [df, bow]\n",
    "df3 = pd.concat(frames, axis = 1, ignore_index=False,)\n",
    "\n",
    "\n",
    "\n",
    "df3.shape\n",
    "df3.head(3)\n",
    "print(\"Sum of na's, by column: \", df3.isnull().sum(axis = 0))\n",
    "print(\"Sum of all na's in df: \", df3.isna().sum().sum())\n",
    "df3.shape"
   ]
  },
  {
   "cell_type": "code",
   "execution_count": 82,
   "id": "332619ca",
   "metadata": {
    "scrolled": true
   },
   "outputs": [
    {
     "name": "stdout",
     "output_type": "stream",
     "text": [
      "sum of target2 =  6252\n"
     ]
    },
    {
     "data": {
      "text/plain": [
       "rating          float64\n",
       "asin             object\n",
       "reviewText       object\n",
       "summary          object\n",
       "review_words     object\n",
       "                 ...   \n",
       "zip ties        float64\n",
       "zip zap         float64\n",
       "zip zip         float64\n",
       "zip zip zap     float64\n",
       "target2           int32\n",
       "Length: 24581, dtype: object"
      ]
     },
     "execution_count": 82,
     "metadata": {},
     "output_type": "execute_result"
    },
    {
     "data": {
      "text/plain": [
       "0    poor product kill insects really dark outside ...\n",
       "1    bug popper really great job clean ever often r...\n",
       "2    seemed job less year quit working bought new b...\n",
       "3    would like believe good reviews bk40d makes wo...\n",
       "4    houston particularly difficult time mosquitos ...\n",
       "Name: review_words, dtype: object"
      ]
     },
     "execution_count": 82,
     "metadata": {},
     "output_type": "execute_result"
    },
    {
     "data": {
      "text/plain": [
       "\"X = df\\nX = np.array(df.loc[row_indexer,col_indexer][:, df.columns != 'target2'])\\ny = np.array(df.loc[row_indexer,col_indexer][:, df.columns == 'target2'])\""
      ]
     },
     "execution_count": 82,
     "metadata": {},
     "output_type": "execute_result"
    }
   ],
   "source": [
    "# Create prediction categories of \n",
    "#     0 = Review of 1,2 or 3 stars \n",
    "#     1 = Review of 4 or 5 stars.  \n",
    "\n",
    "# Make df = the df with n-grams (df3)\n",
    "df = df3\n",
    "\n",
    "# TO SET UP 2 CLASS PREDICTION TARGETS:\n",
    "df['target2'] = 0\n",
    "\n",
    "# Create a new column  called 'target2' where Rating is <= 3, then target2 is 0, otherwise the target2 = 1\n",
    "# To Focus on BAD reviews (1,2,3 star)  use'target2' where Rating is <= 3, then target2 is 1, otherwise the target2 = 0\n",
    "#              OR  df['target2'] = np.where(df['rating']<= 3, 1, 0)   HOWEVER all the results are the same- no difference.\n",
    "\n",
    "df['target2'] = np.where(df['rating']<= 3, 0, 1)\n",
    "print(\"sum of target2 = \",df.target2.sum())    # To verify that there aore 1096 reviews that are 4 or 5.\n",
    "\n",
    "\n",
    "df.dtypes\n",
    "# df.head()\n",
    "df.review_words.head()\n",
    "\n",
    "# df.head(3)\n",
    "\n",
    "# list(df)\n",
    "\n",
    "# Set up df so it just contains the pre-processed words and the target\n",
    "\n",
    "# print(list(df))\n",
    "df = df.drop(['rating', 'asin', 'reviewText', 'summary',   'review_words'], axis=1)\n",
    "# list(df)\n",
    "\n",
    "'''X = df\n",
    "X = np.array(df.loc[row_indexer,col_indexer][:, df.columns != 'target2'])\n",
    "y = np.array(df.loc[row_indexer,col_indexer][:, df.columns == 'target2'])'''\n",
    "\n",
    "X = df\n",
    "X = np.array(df.loc[:, df.columns != 'target2'])\n",
    "y = np.array(df.loc[:, df.columns == 'target2'])\n",
    "\n",
    "# may need to use this  .loc[row_indexer,col_indexer]     instead of .loc"
   ]
  },
  {
   "cell_type": "code",
   "execution_count": 83,
   "id": "d8a41de5",
   "metadata": {
    "scrolled": false
   },
   "outputs": [
    {
     "data": {
      "text/plain": [
       "1914"
      ]
     },
     "execution_count": 83,
     "metadata": {},
     "output_type": "execute_result"
    }
   ],
   "source": [
    "# Number of Negative Reviews\n",
    "len(df) - df.target2.sum()\n"
   ]
  },
  {
   "cell_type": "code",
   "execution_count": 84,
   "id": "74e1b3e1",
   "metadata": {
    "scrolled": false
   },
   "outputs": [
    {
     "name": "stderr",
     "output_type": "stream",
     "text": [
      "<ipython-input-84-3b7c077469b0>:10: DataConversionWarning: A column-vector y was passed when a 1d array was expected. Please change the shape of y to (n_samples,), for example using ravel().\n",
      "  text_classifier2.fit(X_train, y_train)\n"
     ]
    },
    {
     "data": {
      "text/plain": [
       "RandomForestClassifier(random_state=0)"
      ]
     },
     "execution_count": 84,
     "metadata": {},
     "output_type": "execute_result"
    },
    {
     "name": "stdout",
     "output_type": "stream",
     "text": [
      "[[ 127  346]\n",
      " [  15 1554]]\n",
      "              precision    recall  f1-score   support\n",
      "\n",
      "           0       0.89      0.27      0.41       473\n",
      "           1       0.82      0.99      0.90      1569\n",
      "\n",
      "    accuracy                           0.82      2042\n",
      "   macro avg       0.86      0.63      0.65      2042\n",
      "weighted avg       0.84      0.82      0.78      2042\n",
      "\n",
      "\n",
      "Accuracy of N-grams + TFIDF + RFC model  model predicting Rating of Review is 0.8232\n"
     ]
    }
   ],
   "source": [
    "# Random Forest model on n-grams\n",
    "\n",
    "from sklearn.model_selection import train_test_split  \n",
    "X_train, X_test, y_train, y_test = train_test_split(X, y, test_size=0.25, random_state=0)\n",
    "\n",
    "\n",
    " \n",
    "from sklearn.ensemble import RandomForestClassifier\n",
    "text_classifier2 = RandomForestClassifier(n_estimators=100, random_state=0)  \n",
    "text_classifier2.fit(X_train, y_train)\n",
    "\n",
    "# Make it possible to change threshold for predicting \n",
    "threshold = 0.4\n",
    "\n",
    "predicted_proba = text_classifier2.predict_proba(X_test)\n",
    "y_pred = (predicted_proba [:,1] >= threshold).astype('int')\n",
    " \n",
    " \n",
    "# y_pred = text_classifier2.predict(X_test)\n",
    " \n",
    "from sklearn.metrics import classification_report, confusion_matrix, accuracy_score\n",
    " \n",
    "print(confusion_matrix(y_test,y_pred))  \n",
    "print(classification_report(y_test,y_pred))    # NOTE this means columns are predicted, rows are actual values\n",
    "\n",
    "print()\n",
    "print(\"Accuracy of N-grams + TFIDF + RFC model  model predicting Rating of Review is {:.4f}\".format(metrics.accuracy_score(y_test, y_pred)))\n"
   ]
  },
  {
   "cell_type": "code",
   "execution_count": 85,
   "id": "29e2ff99",
   "metadata": {
    "scrolled": false
   },
   "outputs": [
    {
     "data": {
      "text/plain": [
       "[<matplotlib.lines.Line2D at 0x276dec0af40>]"
      ]
     },
     "execution_count": 85,
     "metadata": {},
     "output_type": "execute_result"
    },
    {
     "data": {
      "text/plain": [
       "Text(0.5, 1.0, 'ROC Curve for TFIDF 2,3 and 4-gram + RF model to Predict Rating of 4 or 5')"
      ]
     },
     "execution_count": 85,
     "metadata": {},
     "output_type": "execute_result"
    },
    {
     "data": {
      "text/plain": [
       "Text(0.5, 0, 'False Positive Rate')"
      ]
     },
     "execution_count": 85,
     "metadata": {},
     "output_type": "execute_result"
    },
    {
     "data": {
      "text/plain": [
       "Text(0, 0.5, 'True Positive Rate')"
      ]
     },
     "execution_count": 85,
     "metadata": {},
     "output_type": "execute_result"
    },
    {
     "data": {
      "text/plain": [
       "<matplotlib.legend.Legend at 0x276dec0af70>"
      ]
     },
     "execution_count": 85,
     "metadata": {},
     "output_type": "execute_result"
    },
    {
     "data": {
      "image/png": "[encoded data removed]",
      "text/plain": [
       "<Figure size 432x288 with 1 Axes>"
      ]
     },
     "metadata": {
      "needs_background": "light"
     },
     "output_type": "display_data"
    },
    {
     "name": "stdout",
     "output_type": "stream",
     "text": [
      "The TFIDF + 2,3,4-gram + RF model to Predict Rating of 4 or 5, AUROC is 0.8564\n"
     ]
    }
   ],
   "source": [
    "# Let's see how much lift the model gives.  The area under the curve is compared to 0.50.\n",
    "y_pred = text_classifier2.predict(X_test)\n",
    "from sklearn import metrics\n",
    "y_pred_proba2 = text_classifier2.predict_proba(X_test)[::,1]    # Leave in this line, because it's the truer one.\n",
    "# y_pred_proba2 = y_pred_proba[:,1]\n",
    "fpr,tpr,_ = metrics.roc_curve(y_test, y_pred_proba2)\n",
    "\n",
    "auc = metrics.roc_auc_score(y_test, y_pred_proba2)\n",
    "#  auc2 = roc_auc_score(y_test, y_pred)\n",
    "\n",
    "plt.plot(fpr,tpr,label=\"Standardized, auc=\"+str(auc))  \n",
    "plt.title('ROC Curve for TFIDF 2,3 and 4-gram + RF model to Predict Rating of 4 or 5')\n",
    "plt.xlabel('False Positive Rate')\n",
    "plt.ylabel('True Positive Rate')\n",
    "plt.legend(loc=4)\n",
    "plt.show()\n",
    "\n",
    "print(\"The TFIDF + 2,3,4-gram + RF model to Predict Rating of 4 or 5, AUROC is {:.4f}\".format(auc))"
   ]
  },
  {
   "cell_type": "code",
   "execution_count": 86,
   "id": "86f22a12",
   "metadata": {
    "scrolled": true
   },
   "outputs": [
    {
     "data": {
      "text/plain": [
       "array([0.21341095, 0.92069742, 0.99      , 0.97516967, 0.65845377,\n",
       "       0.45923191, 0.93      , 0.83      , 0.89577108, 1.        ,\n",
       "       0.86      , 0.36579535, 1.        , 0.91      , 0.96      ,\n",
       "       0.92609239, 0.926875  , 1.        , 0.83220624, 0.49561485])"
      ]
     },
     "execution_count": 86,
     "metadata": {},
     "output_type": "execute_result"
    },
    {
     "data": {
      "text/plain": [
       "<Figure size 1440x864 with 0 Axes>"
      ]
     },
     "execution_count": 86,
     "metadata": {},
     "output_type": "execute_result"
    },
    {
     "data": {
      "text/plain": [
       "(0.0, 1.0)"
      ]
     },
     "execution_count": 86,
     "metadata": {},
     "output_type": "execute_result"
    },
    {
     "name": "stderr",
     "output_type": "stream",
     "text": [
      "C:\\Users\\lucin\\anaconda3\\lib\\site-packages\\seaborn\\distributions.py:2557: FutureWarning: `distplot` is a deprecated function and will be removed in a future version. Please adapt your code to use either `displot` (a figure-level function with similar flexibility) or `histplot` (an axes-level function for histograms).\n",
      "  warnings.warn(msg, FutureWarning)\n"
     ]
    },
    {
     "data": {
      "text/plain": [
       "<AxesSubplot:ylabel='Density'>"
      ]
     },
     "execution_count": 86,
     "metadata": {},
     "output_type": "execute_result"
    },
    {
     "name": "stderr",
     "output_type": "stream",
     "text": [
      "C:\\Users\\lucin\\anaconda3\\lib\\site-packages\\seaborn\\distributions.py:2557: FutureWarning: `distplot` is a deprecated function and will be removed in a future version. Please adapt your code to use either `displot` (a figure-level function with similar flexibility) or `histplot` (an axes-level function for histograms).\n",
      "  warnings.warn(msg, FutureWarning)\n"
     ]
    },
    {
     "data": {
      "text/plain": [
       "<AxesSubplot:ylabel='Density'>"
      ]
     },
     "execution_count": 86,
     "metadata": {},
     "output_type": "execute_result"
    },
    {
     "data": {
      "text/plain": [
       "<matplotlib.legend.Legend at 0x27721fa5cd0>"
      ]
     },
     "execution_count": 86,
     "metadata": {},
     "output_type": "execute_result"
    },
    {
     "data": {
      "text/plain": [
       "Text(0.5, 1.0, 'Random Forest Predicted vs Actual Rating of 4 or 5 \\n Input variables are Tri-grams of words in Reviews')"
      ]
     },
     "execution_count": 86,
     "metadata": {},
     "output_type": "execute_result"
    },
    {
     "data": {
      "text/plain": [
       "Text(0, 0.5, 'Probability Density')"
      ]
     },
     "execution_count": 86,
     "metadata": {},
     "output_type": "execute_result"
    },
    {
     "data": {
      "text/plain": [
       "Text(0.5, 0, 'Probablility of 4 or 5 Rating based on Review words')"
      ]
     },
     "execution_count": 86,
     "metadata": {},
     "output_type": "execute_result"
    },
    {
     "data": {
      "image/png": "[encoded data removed]",
      "text/plain": [
       "<Figure size 1440x864 with 1 Axes>"
      ]
     },
     "metadata": {
      "needs_background": "light"
     },
     "output_type": "display_data"
    },
    {
     "data": {
      "text/plain": [
       "\"# For numerical features only\\nfeaturesNUM = list(data2.columns)\\nfeaturesNUM.remove('y')\\n\""
      ]
     },
     "execution_count": 86,
     "metadata": {},
     "output_type": "execute_result"
    },
    {
     "data": {
      "text/plain": [
       "stopped working        0.012732\n",
       "waste money            0.012325\n",
       "works great            0.011992\n",
       "work star              0.009936\n",
       "kill mosquitoes        0.004356\n",
       "                         ...   \n",
       "long mosquitos         0.000000\n",
       "long need              0.000000\n",
       "long need extension    0.000000\n",
       "long product           0.000000\n",
       "loaded bugs            0.000000\n",
       "Length: 24575, dtype: float64"
      ]
     },
     "execution_count": 86,
     "metadata": {},
     "output_type": "execute_result"
    },
    {
     "data": {
      "text/plain": [
       "\"\\n# Horizontal Graph, but it's too crowded\\n\\nplt.figure(figsize=(38,20))\\nsns.barplot(y=feature_imp, x=feature_imp.index)\\n# Add labels to your graph\\nplt.ylabel('Word Importance, by Decreasing Coefficient\\n ', fontsize = 32)\\nplt.xlabel('Words', fontsize = 32)\\nplt.title('Most important N-grams, TFIDF + Random Forest Predicting Rating of 4 or 5 \\n', fontsize = 36)\\nplt.xticks(rotation = 35, horizontalalignment='right', fontsize = 20)\\nplt.yticks(fontsize = 20)\\nplt.legend()\\nplt.show()\""
      ]
     },
     "execution_count": 86,
     "metadata": {},
     "output_type": "execute_result"
    }
   ],
   "source": [
    "# Look at Probability distribution of predicted values\n",
    "\n",
    "y_pred_proba = text_classifier2.predict_proba(X_test)[::,1]\n",
    "y_pred_proba[0:20]\n",
    "\n",
    "# Raw distribution of counts is highly skewed \n",
    "plt.figure(figsize=(20,12))\n",
    "plt.xlim(0,1)\n",
    "sns.distplot(y_pred_proba)\n",
    "sns.distplot(y_test, color='red', bins = 35)\n",
    "plt.legend(['Predicted', 'Actual'], fontsize = 20)\n",
    "plt.title('Random Forest Predicted vs Actual Rating of 4 or 5 \\n Input variables are Tri-grams of words in Reviews', fontsize = 28)\n",
    "plt.ylabel('Probability Density', fontsize=16)\n",
    "plt.xlabel('Probablility of 4 or 5 Rating based on Review words', fontsize=16)\n",
    "plt.show()\n",
    "\n",
    "# Get Feature Importance, or the most important Tri-grams\n",
    "\n",
    "# For categorical and numerical features\n",
    "featuresNUM = list(df.columns)\n",
    "featuresNUM.remove('target2')\n",
    "\n",
    "'''# For numerical features only\n",
    "featuresNUM = list(data2.columns)\n",
    "featuresNUM.remove('y')\n",
    "'''\n",
    "\n",
    "import pandas as pd\n",
    "feature_imp = pd.Series(text_classifier2.feature_importances_,featuresNUM).sort_values(ascending=False)\n",
    "feature_imp\n",
    "\n",
    "import matplotlib.pyplot as plt\n",
    "import seaborn as sns\n",
    "%matplotlib inline\n",
    "\n",
    "# Creating a bar plot with Top N features and coefficients\n",
    "N = 200\n",
    "feature_imp = feature_imp[:N,]\n",
    "\n",
    "'''\n",
    "# Horizontal Graph, but it's too crowded\n",
    "\n",
    "plt.figure(figsize=(38,20))\n",
    "sns.barplot(y=feature_imp, x=feature_imp.index)\n",
    "# Add labels to your graph\n",
    "plt.ylabel('Word Importance, by Decreasing Coefficient\\n ', fontsize = 32)\n",
    "plt.xlabel('Words', fontsize = 32)\n",
    "plt.title('Most important N-grams, TFIDF + Random Forest Predicting Rating of 4 or 5 \\n', fontsize = 36)\n",
    "plt.xticks(rotation = 35, horizontalalignment='right', fontsize = 20)\n",
    "plt.yticks(fontsize = 20)\n",
    "plt.legend()\n",
    "plt.show()'''\n",
    "\n",
    "\n"
   ]
  },
  {
   "cell_type": "code",
   "execution_count": 90,
   "id": "ee5d445d",
   "metadata": {
    "scrolled": false
   },
   "outputs": [
    {
     "data": {
      "text/plain": [
       "<Figure size 1440x4320 with 0 Axes>"
      ]
     },
     "execution_count": 90,
     "metadata": {},
     "output_type": "execute_result"
    },
    {
     "data": {
      "text/plain": [
       "<AxesSubplot:>"
      ]
     },
     "execution_count": 90,
     "metadata": {},
     "output_type": "execute_result"
    },
    {
     "data": {
      "text/plain": [
       "Text(0.5, 1.0, 'Word Importanc N-grams, TFIDF + RF, Predicting Review Ratings\\n')"
      ]
     },
     "execution_count": 90,
     "metadata": {},
     "output_type": "execute_result"
    },
    {
     "data": {
      "text/plain": [
       "(array([0.   , 0.002, 0.004, 0.006, 0.008, 0.01 , 0.012, 0.014]),\n",
       " [Text(0, 0, ''),\n",
       "  Text(0, 0, ''),\n",
       "  Text(0, 0, ''),\n",
       "  Text(0, 0, ''),\n",
       "  Text(0, 0, ''),\n",
       "  Text(0, 0, ''),\n",
       "  Text(0, 0, ''),\n",
       "  Text(0, 0, '')])"
      ]
     },
     "execution_count": 90,
     "metadata": {},
     "output_type": "execute_result"
    },
    {
     "data": {
      "text/plain": [
       "(array([  0,   1,   2,   3,   4,   5,   6,   7,   8,   9,  10,  11,  12,\n",
       "         13,  14,  15,  16,  17,  18,  19,  20,  21,  22,  23,  24,  25,\n",
       "         26,  27,  28,  29,  30,  31,  32,  33,  34,  35,  36,  37,  38,\n",
       "         39,  40,  41,  42,  43,  44,  45,  46,  47,  48,  49,  50,  51,\n",
       "         52,  53,  54,  55,  56,  57,  58,  59,  60,  61,  62,  63,  64,\n",
       "         65,  66,  67,  68,  69,  70,  71,  72,  73,  74,  75,  76,  77,\n",
       "         78,  79,  80,  81,  82,  83,  84,  85,  86,  87,  88,  89,  90,\n",
       "         91,  92,  93,  94,  95,  96,  97,  98,  99, 100, 101, 102, 103,\n",
       "        104, 105, 106, 107, 108, 109, 110, 111, 112, 113, 114, 115, 116,\n",
       "        117, 118, 119, 120, 121, 122, 123, 124, 125, 126, 127, 128, 129,\n",
       "        130, 131, 132, 133, 134, 135, 136, 137, 138, 139, 140, 141, 142,\n",
       "        143, 144, 145, 146, 147, 148, 149, 150, 151, 152, 153, 154, 155,\n",
       "        156, 157, 158, 159, 160, 161, 162, 163, 164, 165, 166, 167, 168,\n",
       "        169, 170, 171, 172, 173, 174, 175, 176, 177, 178, 179, 180, 181,\n",
       "        182, 183, 184, 185, 186, 187, 188, 189, 190, 191, 192, 193, 194,\n",
       "        195, 196, 197, 198, 199]),\n",
       " [Text(0, 0, 'stopped working'),\n",
       "  Text(0, 1, 'waste money'),\n",
       "  Text(0, 2, 'works great'),\n",
       "  Text(0, 3, 'work star'),\n",
       "  Text(0, 4, 'kill mosquitoes'),\n",
       "  Text(0, 5, 'bug zapper'),\n",
       "  Text(0, 6, 'quit working'),\n",
       "  Text(0, 7, 'great product'),\n",
       "  Text(0, 8, 'lasted months'),\n",
       "  Text(0, 9, 'return policy'),\n",
       "  Text(0, 10, 'disappointed disappointed'),\n",
       "  Text(0, 11, 'cord short'),\n",
       "  Text(0, 12, 'worked great'),\n",
       "  Text(0, 13, 'arrived broken'),\n",
       "  Text(0, 14, 'new bulb'),\n",
       "  Text(0, 15, 'save money'),\n",
       "  Text(0, 16, 'kill flies'),\n",
       "  Text(0, 17, 'great stars'),\n",
       "  Text(0, 18, 'attract mosquitos'),\n",
       "  Text(0, 19, 'bulb went'),\n",
       "  Text(0, 20, 'bulbs burned'),\n",
       "  Text(0, 21, 'buyer beware'),\n",
       "  Text(0, 22, 'return window'),\n",
       "  Text(0, 23, 'stopped zapping'),\n",
       "  Text(0, 24, 'worked days'),\n",
       "  Text(0, 25, 'light bulb'),\n",
       "  Text(0, 26, 'mosquitoes attracted'),\n",
       "  Text(0, 27, 'months star'),\n",
       "  Text(0, 28, 'high hopes'),\n",
       "  Text(0, 29, 'poor quality'),\n",
       "  Text(0, 30, 'attract bugs'),\n",
       "  Text(0, 31, 'attract flies'),\n",
       "  Text(0, 32, 'attract kill'),\n",
       "  Text(0, 33, 'killed bug'),\n",
       "  Text(0, 34, 'product work'),\n",
       "  Text(0, 35, 'positive reviews'),\n",
       "  Text(0, 36, 'attract mosquito'),\n",
       "  Text(0, 37, 'work mosquitoes'),\n",
       "  Text(0, 38, 'insects mosquitos'),\n",
       "  Text(0, 39, 'bought works'),\n",
       "  Text(0, 40, 'work stars'),\n",
       "  Text(0, 41, 'lasted season'),\n",
       "  Text(0, 42, 'buy star'),\n",
       "  Text(0, 43, 'buy product'),\n",
       "  Text(0, 44, 'kill moths'),\n",
       "  Text(0, 45, 'broke star'),\n",
       "  Text(0, 46, 'money work'),\n",
       "  Text(0, 47, 'catch bugs'),\n",
       "  Text(0, 48, 'black flies'),\n",
       "  Text(0, 49, 'lasted month'),\n",
       "  Text(0, 50, 'bulb burned'),\n",
       "  Text(0, 51, 'months stars'),\n",
       "  Text(0, 52, 'kills moths'),\n",
       "  Text(0, 53, 'killing mosquitoes'),\n",
       "  Text(0, 54, 'short lived'),\n",
       "  Text(0, 55, 'lasted year'),\n",
       "  Text(0, 56, 'dead bugs'),\n",
       "  Text(0, 57, 'piece junk'),\n",
       "  Text(0, 58, 'notice difference'),\n",
       "  Text(0, 59, 'bought worked'),\n",
       "  Text(0, 60, 'kill flys'),\n",
       "  Text(0, 61, 'unit work'),\n",
       "  Text(0, 62, 'attract mosquitoes'),\n",
       "  Text(0, 63, 'broke months'),\n",
       "  Text(0, 64, 'gave stars'),\n",
       "  Text(0, 65, 'good true'),\n",
       "  Text(0, 66, 'highly recommend'),\n",
       "  Text(0, 67, 'kill mosquitos'),\n",
       "  Text(0, 68, 'help mosquitos'),\n",
       "  Text(0, 69, 'mosquitos star'),\n",
       "  Text(0, 70, 'works great stars'),\n",
       "  Text(0, 71, 'difference mosquito'),\n",
       "  Text(0, 72, 'kill mosquito'),\n",
       "  Text(0, 73, 'work bugs'),\n",
       "  Text(0, 74, 'wire short'),\n",
       "  Text(0, 75, 'going try'),\n",
       "  Text(0, 76, 'sure working'),\n",
       "  Text(0, 77, 'flies flies'),\n",
       "  Text(0, 78, 'maybe mosquitoes'),\n",
       "  Text(0, 79, 'old stars'),\n",
       "  Text(0, 80, 'return star'),\n",
       "  Text(0, 81, 'feet away'),\n",
       "  Text(0, 82, 'worked month'),\n",
       "  Text(0, 83, 'spend money'),\n",
       "  Text(0, 84, 'short life'),\n",
       "  Text(0, 85, 'light sensor'),\n",
       "  Text(0, 86, 'okay stars'),\n",
       "  Text(0, 87, 'returned star'),\n",
       "  Text(0, 88, 'solar powered'),\n",
       "  Text(0, 89, 'cord like'),\n",
       "  Text(0, 90, 'bugs mosquitoes'),\n",
       "  Text(0, 91, 'broken arrival'),\n",
       "  Text(0, 92, 'killed moths'),\n",
       "  Text(0, 93, 'year old'),\n",
       "  Text(0, 94, 'money waste money'),\n",
       "  Text(0, 95, 'broken star'),\n",
       "  Text(0, 96, 'item works'),\n",
       "  Text(0, 97, 'return work'),\n",
       "  Text(0, 98, 'month stars'),\n",
       "  Text(0, 99, 'product star'),\n",
       "  Text(0, 100, 'failed year'),\n",
       "  Text(0, 101, 'work correctly'),\n",
       "  Text(0, 102, 'longer works'),\n",
       "  Text(0, 103, 'cord way'),\n",
       "  Text(0, 104, 'extension cord'),\n",
       "  Text(0, 105, 'works star'),\n",
       "  Text(0, 106, 'light blew'),\n",
       "  Text(0, 107, 'work bulb'),\n",
       "  Text(0, 108, 'screw missing'),\n",
       "  Text(0, 109, 'money waste'),\n",
       "  Text(0, 110, 'burned months'),\n",
       "  Text(0, 111, 'work really'),\n",
       "  Text(0, 112, 'great months'),\n",
       "  Text(0, 113, 'summer season'),\n",
       "  Text(0, 114, 'worked great months'),\n",
       "  Text(0, 115, 'caught bug'),\n",
       "  Text(0, 116, 'okay guess'),\n",
       "  Text(0, 117, 'bulb bought'),\n",
       "  Text(0, 118, 'months bulb'),\n",
       "  Text(0, 119, 'fly stars'),\n",
       "  Text(0, 120, 'leave outside'),\n",
       "  Text(0, 121, 'device kill'),\n",
       "  Text(0, 122, 'yard year'),\n",
       "  Text(0, 123, 'really working'),\n",
       "  Text(0, 124, 'good thing'),\n",
       "  Text(0, 125, 'good indoors'),\n",
       "  Text(0, 126, 'cheap stars'),\n",
       "  Text(0, 127, 'better results'),\n",
       "  Text(0, 128, 'really hoping'),\n",
       "  Text(0, 129, 'little disappointed'),\n",
       "  Text(0, 130, 'worked night'),\n",
       "  Text(0, 131, 'working star'),\n",
       "  Text(0, 132, 'burned quickly'),\n",
       "  Text(0, 133, 'bugs attract'),\n",
       "  Text(0, 134, 'money star'),\n",
       "  Text(0, 135, 'power source'),\n",
       "  Text(0, 136, 'mosquito problem'),\n",
       "  Text(0, 137, 'screws missing'),\n",
       "  Text(0, 138, 'work mosquitos'),\n",
       "  Text(0, 139, 'octenol cartridge'),\n",
       "  Text(0, 140, 'works hard'),\n",
       "  Text(0, 141, 'waited long'),\n",
       "  Text(0, 142, 'good stars'),\n",
       "  Text(0, 143, 'couple weeks'),\n",
       "  Text(0, 144, 'kills flys'),\n",
       "  Text(0, 145, 'sure guess'),\n",
       "  Text(0, 146, 'bugs new'),\n",
       "  Text(0, 147, 'dead insects'),\n",
       "  Text(0, 148, 'started using'),\n",
       "  Text(0, 149, 'works recommend'),\n",
       "  Text(0, 150, 'broke uses'),\n",
       "  Text(0, 151, 'long stars'),\n",
       "  Text(0, 152, 'use stars'),\n",
       "  Text(0, 153, 'option stars'),\n",
       "  Text(0, 154, 'effective mosquitos'),\n",
       "  Text(0, 155, 'fake star'),\n",
       "  Text(0, 156, 'months old'),\n",
       "  Text(0, 157, 'strong stars'),\n",
       "  Text(0, 158, 'perfect shape'),\n",
       "  Text(0, 159, 'live learn'),\n",
       "  Text(0, 160, 'really expected'),\n",
       "  Text(0, 161, 'recommend looking'),\n",
       "  Text(0, 162, 'house work'),\n",
       "  Text(0, 163, 'bulb burns'),\n",
       "  Text(0, 164, 'del stars'),\n",
       "  Text(0, 165, 'work properly'),\n",
       "  Text(0, 166, 'worked great weeks'),\n",
       "  Text(0, 167, 'kills comes'),\n",
       "  Text(0, 168, 'work long'),\n",
       "  Text(0, 169, 'mosquitoes fine'),\n",
       "  Text(0, 170, 'months later'),\n",
       "  Text(0, 171, 'work thought'),\n",
       "  Text(0, 172, 'away box'),\n",
       "  Text(0, 173, 'price price'),\n",
       "  Text(0, 174, 'inside house'),\n",
       "  Text(0, 175, 'broken stars'),\n",
       "  Text(0, 176, 'price good'),\n",
       "  Text(0, 177, 'cheap plastic'),\n",
       "  Text(0, 178, 'smoke come'),\n",
       "  Text(0, 179, 'day use'),\n",
       "  Text(0, 180, 'arrived working'),\n",
       "  Text(0, 181, 'mosquitoes moths'),\n",
       "  Text(0, 182, 'money works'),\n",
       "  Text(0, 183, 'energy star'),\n",
       "  Text(0, 184, 'happy happy'),\n",
       "  Text(0, 185, 'kills good'),\n",
       "  Text(0, 186, 'replacement stars'),\n",
       "  Text(0, 187, 'works guess'),\n",
       "  Text(0, 188, 'mosquito star'),\n",
       "  Text(0, 189, 'far away'),\n",
       "  Text(0, 190, 'effect mosquitos'),\n",
       "  Text(0, 191, 'expected stars'),\n",
       "  Text(0, 192, 'insects mosquitoes'),\n",
       "  Text(0, 193, 'need buy'),\n",
       "  Text(0, 194, 'product useless'),\n",
       "  Text(0, 195, 'great catching'),\n",
       "  Text(0, 196, 'difference mosquitos'),\n",
       "  Text(0, 197, 'moth killer'),\n",
       "  Text(0, 198, 'good moths'),\n",
       "  Text(0, 199, 'died days')])"
      ]
     },
     "execution_count": 90,
     "metadata": {},
     "output_type": "execute_result"
    },
    {
     "data": {
      "text/plain": [
       "Text(0, 0.5, 'Words')"
      ]
     },
     "execution_count": 90,
     "metadata": {},
     "output_type": "execute_result"
    },
    {
     "data": {
      "text/plain": [
       "Text(0.5, 0, 'Word Importance Coefficient')"
      ]
     },
     "execution_count": 90,
     "metadata": {},
     "output_type": "execute_result"
    },
    {
     "name": "stderr",
     "output_type": "stream",
     "text": [
      "No handles with labels found to put in legend.\n"
     ]
    },
    {
     "data": {
      "text/plain": [
       "<matplotlib.legend.Legend at 0x276e5a1bd60>"
      ]
     },
     "execution_count": 90,
     "metadata": {},
     "output_type": "execute_result"
    },
    {
     "data": {
      "image/png": "[encoded data removed]",
      "text/plain": [
       "<Figure size 1440x4320 with 1 Axes>"
      ]
     },
     "metadata": {
      "needs_background": "light"
     },
     "output_type": "display_data"
    }
   ],
   "source": [
    "#  Plot 200 Most Important Features\n",
    "#   Change to Vertical Plot\n",
    "\n",
    "plt.figure(figsize=(20,60))\n",
    "sns.barplot(x=feature_imp, y=feature_imp.index, alpha=0.8)\n",
    "plt.title('Word Importanc N-grams, TFIDF + RF, Predicting Review Ratings\\n', fontsize = 40)\n",
    "plt.xticks(rotation = 35, horizontalalignment='right', fontsize  = 20)\n",
    "plt.yticks(fontsize = 20)\n",
    "plt.ylabel('Words', fontsize=32)\n",
    "plt.xlabel('Word Importance Coefficient', fontsize=32)\n",
    "plt.legend()\n",
    "plt.show()"
   ]
  },
  {
   "cell_type": "code",
   "execution_count": null,
   "id": "63e42bdb",
   "metadata": {
    "scrolled": false
   },
   "outputs": [],
   "source": []
  },
  {
   "cell_type": "markdown",
   "id": "b90f0955",
   "metadata": {
    "collapsed": true
   },
   "source": [
    "### Try TFIDF to Vectorize and Logistic Regression to Predict\n",
    "\n",
    "Results are similar to TFIDF + Random Forest with a threshold of 0.4. \n",
    "Note For TFIDF + Logistic Regression, threshold was changed so that any probability > 0.6 predicts a good review.\n",
    "\n",
    "TFIDF + Logistic Regression Results:\n",
    "* Accuracy is only 82%\n",
    "* Recall on predicting Bad Reviews is 0.27"
   ]
  },
  {
   "cell_type": "code",
   "execution_count": 89,
   "id": "ee3651be",
   "metadata": {
    "scrolled": true
   },
   "outputs": [
    {
     "name": "stderr",
     "output_type": "stream",
     "text": [
      "C:\\Users\\lucin\\anaconda3\\lib\\site-packages\\IPython\\core\\interactiveshell.py:3357: DtypeWarning: Columns (2) have mixed types.Specify dtype option on import or set low_memory=False.\n",
      "  if (await self.run_code(code, result,  async_=asy)):\n",
      "C:\\Users\\lucin\\anaconda3\\lib\\site-packages\\IPython\\core\\interactiveshell.py:3357: DtypeWarning: Columns (7) have mixed types.Specify dtype option on import or set low_memory=False.\n",
      "  if (await self.run_code(code, result,  async_=asy)):\n"
     ]
    },
    {
     "data": {
      "text/html": [
       "<div>\n",
       "<style scoped>\n",
       "    .dataframe tbody tr th:only-of-type {\n",
       "        vertical-align: middle;\n",
       "    }\n",
       "\n",
       "    .dataframe tbody tr th {\n",
       "        vertical-align: top;\n",
       "    }\n",
       "\n",
       "    .dataframe thead th {\n",
       "        text-align: right;\n",
       "    }\n",
       "</style>\n",
       "<table border=\"1\" class=\"dataframe\">\n",
       "  <thead>\n",
       "    <tr style=\"text-align: right;\">\n",
       "      <th></th>\n",
       "      <th>Unnamed: 0_x</th>\n",
       "      <th>category</th>\n",
       "      <th>tech1</th>\n",
       "      <th>description</th>\n",
       "      <th>fit</th>\n",
       "      <th>title</th>\n",
       "      <th>also_buy</th>\n",
       "      <th>tech2</th>\n",
       "      <th>brand</th>\n",
       "      <th>feature</th>\n",
       "      <th>...</th>\n",
       "      <th>rating</th>\n",
       "      <th>vote</th>\n",
       "      <th>verified</th>\n",
       "      <th>reviewTime</th>\n",
       "      <th>reviewerID</th>\n",
       "      <th>reviewerName</th>\n",
       "      <th>reviewText</th>\n",
       "      <th>summary</th>\n",
       "      <th>unixReviewTime</th>\n",
       "      <th>image</th>\n",
       "    </tr>\n",
       "  </thead>\n",
       "  <tbody>\n",
       "    <tr>\n",
       "      <th>0</th>\n",
       "      <td>425</td>\n",
       "      <td>['Patio, Lawn &amp; Garden', 'Pest Control', 'Bug ...</td>\n",
       "      <td>NaN</td>\n",
       "      <td>[\"Are you troubled by more insects than you ca...</td>\n",
       "      <td>NaN</td>\n",
       "      <td>Flowtron BK-80D 80-Watt Electronic Insect Kill...</td>\n",
       "      <td>['B000063XHT', 'B00004R9VX', 'B00004R9W5', 'B0...</td>\n",
       "      <td>NaN</td>\n",
       "      <td>Flowtron</td>\n",
       "      <td>['High efficiency, non-clogging killing grid, ...</td>\n",
       "      <td>...</td>\n",
       "      <td>2.0</td>\n",
       "      <td>7</td>\n",
       "      <td>False</td>\n",
       "      <td>06 3, 2002</td>\n",
       "      <td>A1JYVOX5AX65N9</td>\n",
       "      <td>Julia</td>\n",
       "      <td>Poor product. It will kill insects after it is...</td>\n",
       "      <td>Flowtron Insect Killer</td>\n",
       "      <td>1023062400</td>\n",
       "      <td>NaN</td>\n",
       "    </tr>\n",
       "    <tr>\n",
       "      <th>1</th>\n",
       "      <td>425</td>\n",
       "      <td>['Patio, Lawn &amp; Garden', 'Pest Control', 'Bug ...</td>\n",
       "      <td>NaN</td>\n",
       "      <td>[\"Are you troubled by more insects than you ca...</td>\n",
       "      <td>NaN</td>\n",
       "      <td>Flowtron BK-80D 80-Watt Electronic Insect Kill...</td>\n",
       "      <td>['B000063XHT', 'B00004R9VX', 'B00004R9W5', 'B0...</td>\n",
       "      <td>NaN</td>\n",
       "      <td>Flowtron</td>\n",
       "      <td>['High efficiency, non-clogging killing grid, ...</td>\n",
       "      <td>...</td>\n",
       "      <td>5.0</td>\n",
       "      <td>20</td>\n",
       "      <td>False</td>\n",
       "      <td>06 1, 2002</td>\n",
       "      <td>A2J2SZC2H8N0WZ</td>\n",
       "      <td>Ross</td>\n",
       "      <td>This bug popper really does a great job. You d...</td>\n",
       "      <td>Works Great!</td>\n",
       "      <td>1022889600</td>\n",
       "      <td>NaN</td>\n",
       "    </tr>\n",
       "    <tr>\n",
       "      <th>2</th>\n",
       "      <td>425</td>\n",
       "      <td>['Patio, Lawn &amp; Garden', 'Pest Control', 'Bug ...</td>\n",
       "      <td>NaN</td>\n",
       "      <td>[\"Are you troubled by more insects than you ca...</td>\n",
       "      <td>NaN</td>\n",
       "      <td>Flowtron BK-80D 80-Watt Electronic Insect Kill...</td>\n",
       "      <td>['B000063XHT', 'B00004R9VX', 'B00004R9W5', 'B0...</td>\n",
       "      <td>NaN</td>\n",
       "      <td>Flowtron</td>\n",
       "      <td>['High efficiency, non-clogging killing grid, ...</td>\n",
       "      <td>...</td>\n",
       "      <td>1.0</td>\n",
       "      <td>33</td>\n",
       "      <td>True</td>\n",
       "      <td>04 27, 2002</td>\n",
       "      <td>ANIATM2KZ3OP7</td>\n",
       "      <td>Hugh D. Murray</td>\n",
       "      <td>It seemed to be doing the job. Then after less...</td>\n",
       "      <td>Already Broke!</td>\n",
       "      <td>1019865600</td>\n",
       "      <td>NaN</td>\n",
       "    </tr>\n",
       "    <tr>\n",
       "      <th>3</th>\n",
       "      <td>425</td>\n",
       "      <td>['Patio, Lawn &amp; Garden', 'Pest Control', 'Bug ...</td>\n",
       "      <td>NaN</td>\n",
       "      <td>[\"Are you troubled by more insects than you ca...</td>\n",
       "      <td>NaN</td>\n",
       "      <td>Flowtron BK-80D 80-Watt Electronic Insect Kill...</td>\n",
       "      <td>['B000063XHT', 'B00004R9VX', 'B00004R9W5', 'B0...</td>\n",
       "      <td>NaN</td>\n",
       "      <td>Flowtron</td>\n",
       "      <td>['High efficiency, non-clogging killing grid, ...</td>\n",
       "      <td>...</td>\n",
       "      <td>2.0</td>\n",
       "      <td>39</td>\n",
       "      <td>False</td>\n",
       "      <td>10 9, 2001</td>\n",
       "      <td>A1T9WGRA28F339</td>\n",
       "      <td>Cecile</td>\n",
       "      <td>i would like to believe all the good reviews a...</td>\n",
       "      <td>not for tropical mosquitos</td>\n",
       "      <td>1002585600</td>\n",
       "      <td>NaN</td>\n",
       "    </tr>\n",
       "    <tr>\n",
       "      <th>4</th>\n",
       "      <td>425</td>\n",
       "      <td>['Patio, Lawn &amp; Garden', 'Pest Control', 'Bug ...</td>\n",
       "      <td>NaN</td>\n",
       "      <td>[\"Are you troubled by more insects than you ca...</td>\n",
       "      <td>NaN</td>\n",
       "      <td>Flowtron BK-80D 80-Watt Electronic Insect Kill...</td>\n",
       "      <td>['B000063XHT', 'B00004R9VX', 'B00004R9W5', 'B0...</td>\n",
       "      <td>NaN</td>\n",
       "      <td>Flowtron</td>\n",
       "      <td>['High efficiency, non-clogging killing grid, ...</td>\n",
       "      <td>...</td>\n",
       "      <td>5.0</td>\n",
       "      <td>242</td>\n",
       "      <td>True</td>\n",
       "      <td>07 4, 2001</td>\n",
       "      <td>A3SJDVBBKUZILK</td>\n",
       "      <td>Amazon Customer</td>\n",
       "      <td>Here in Houston we have had a particularly dif...</td>\n",
       "      <td>Allows us to enjoy the outdoors again!!</td>\n",
       "      <td>994204800</td>\n",
       "      <td>NaN</td>\n",
       "    </tr>\n",
       "  </tbody>\n",
       "</table>\n",
       "<p>5 rows × 31 columns</p>\n",
       "</div>"
      ],
      "text/plain": [
       "   Unnamed: 0_x                                           category tech1  \\\n",
       "0           425  ['Patio, Lawn & Garden', 'Pest Control', 'Bug ...   NaN   \n",
       "1           425  ['Patio, Lawn & Garden', 'Pest Control', 'Bug ...   NaN   \n",
       "2           425  ['Patio, Lawn & Garden', 'Pest Control', 'Bug ...   NaN   \n",
       "3           425  ['Patio, Lawn & Garden', 'Pest Control', 'Bug ...   NaN   \n",
       "4           425  ['Patio, Lawn & Garden', 'Pest Control', 'Bug ...   NaN   \n",
       "\n",
       "                                         description  fit  \\\n",
       "0  [\"Are you troubled by more insects than you ca...  NaN   \n",
       "1  [\"Are you troubled by more insects than you ca...  NaN   \n",
       "2  [\"Are you troubled by more insects than you ca...  NaN   \n",
       "3  [\"Are you troubled by more insects than you ca...  NaN   \n",
       "4  [\"Are you troubled by more insects than you ca...  NaN   \n",
       "\n",
       "                                               title  \\\n",
       "0  Flowtron BK-80D 80-Watt Electronic Insect Kill...   \n",
       "1  Flowtron BK-80D 80-Watt Electronic Insect Kill...   \n",
       "2  Flowtron BK-80D 80-Watt Electronic Insect Kill...   \n",
       "3  Flowtron BK-80D 80-Watt Electronic Insect Kill...   \n",
       "4  Flowtron BK-80D 80-Watt Electronic Insect Kill...   \n",
       "\n",
       "                                            also_buy tech2     brand  \\\n",
       "0  ['B000063XHT', 'B00004R9VX', 'B00004R9W5', 'B0...   NaN  Flowtron   \n",
       "1  ['B000063XHT', 'B00004R9VX', 'B00004R9W5', 'B0...   NaN  Flowtron   \n",
       "2  ['B000063XHT', 'B00004R9VX', 'B00004R9W5', 'B0...   NaN  Flowtron   \n",
       "3  ['B000063XHT', 'B00004R9VX', 'B00004R9W5', 'B0...   NaN  Flowtron   \n",
       "4  ['B000063XHT', 'B00004R9VX', 'B00004R9W5', 'B0...   NaN  Flowtron   \n",
       "\n",
       "                                             feature  ... rating vote  \\\n",
       "0  ['High efficiency, non-clogging killing grid, ...  ...    2.0    7   \n",
       "1  ['High efficiency, non-clogging killing grid, ...  ...    5.0   20   \n",
       "2  ['High efficiency, non-clogging killing grid, ...  ...    1.0   33   \n",
       "3  ['High efficiency, non-clogging killing grid, ...  ...    2.0   39   \n",
       "4  ['High efficiency, non-clogging killing grid, ...  ...    5.0  242   \n",
       "\n",
       "  verified   reviewTime      reviewerID     reviewerName  \\\n",
       "0    False   06 3, 2002  A1JYVOX5AX65N9            Julia   \n",
       "1    False   06 1, 2002  A2J2SZC2H8N0WZ             Ross   \n",
       "2     True  04 27, 2002   ANIATM2KZ3OP7   Hugh D. Murray   \n",
       "3    False   10 9, 2001  A1T9WGRA28F339           Cecile   \n",
       "4     True   07 4, 2001  A3SJDVBBKUZILK  Amazon Customer   \n",
       "\n",
       "                                          reviewText  \\\n",
       "0  Poor product. It will kill insects after it is...   \n",
       "1  This bug popper really does a great job. You d...   \n",
       "2  It seemed to be doing the job. Then after less...   \n",
       "3  i would like to believe all the good reviews a...   \n",
       "4  Here in Houston we have had a particularly dif...   \n",
       "\n",
       "                                   summary unixReviewTime image  \n",
       "0                   Flowtron Insect Killer     1023062400   NaN  \n",
       "1                             Works Great!     1022889600   NaN  \n",
       "2                           Already Broke!     1019865600   NaN  \n",
       "3               not for tropical mosquitos     1002585600   NaN  \n",
       "4  Allows us to enjoy the outdoors again!!      994204800   NaN  \n",
       "\n",
       "[5 rows x 31 columns]"
      ]
     },
     "execution_count": 89,
     "metadata": {},
     "output_type": "execute_result"
    },
    {
     "data": {
      "text/plain": [
       "Unnamed: 0_x          0\n",
       "category              0\n",
       "tech1              8166\n",
       "description           0\n",
       "fit                8166\n",
       "title                 0\n",
       "also_buy              0\n",
       "tech2              8166\n",
       "brand                 0\n",
       "feature               0\n",
       "rank                  0\n",
       "also_view             0\n",
       "main_cat              0\n",
       "similar_item          0\n",
       "date               8166\n",
       "price                 0\n",
       "asin                  0\n",
       "imageURL              0\n",
       "imageURLHighRes       0\n",
       "details               0\n",
       "Unnamed: 0_y          0\n",
       "rating                0\n",
       "vote               7291\n",
       "verified              0\n",
       "reviewTime            0\n",
       "reviewerID            0\n",
       "reviewerName          0\n",
       "reviewText            0\n",
       "summary               0\n",
       "unixReviewTime        0\n",
       "image              8050\n",
       "dtype: int64"
      ]
     },
     "execution_count": 89,
     "metadata": {},
     "output_type": "execute_result"
    },
    {
     "data": {
      "text/plain": [
       "['rating', 'asin', 'reviewText', 'summary']"
      ]
     },
     "execution_count": 89,
     "metadata": {},
     "output_type": "execute_result"
    },
    {
     "data": {
      "text/plain": [
       "(8166, 4)"
      ]
     },
     "execution_count": 89,
     "metadata": {},
     "output_type": "execute_result"
    },
    {
     "name": "stderr",
     "output_type": "stream",
     "text": [
      "<ipython-input-65-ac493a8addc8>:17: FutureWarning: The default value of regex will change from True to False in a future version.\n",
      "  df['review_words'] = df['review_words'].str.replace(\"[^a-zA-Z+%0-9]\", \" \")\n"
     ]
    },
    {
     "data": {
      "text/plain": [
       "bugs        4030\n",
       "works       3234\n",
       "great       2889\n",
       "one         2670\n",
       "bug         2279\n",
       "            ... \n",
       "altough        1\n",
       "x12            1\n",
       "atracted       1\n",
       "alarmed        1\n",
       "forming        1\n",
       "Length: 10683, dtype: int64"
      ]
     },
     "execution_count": 89,
     "metadata": {},
     "output_type": "execute_result"
    },
    {
     "name": "stdout",
     "output_type": "stream",
     "text": [
      "dtm shape is:  (8166, 24575)\n",
      "Here is part of the Trigram table\n",
      "bow shape is:  (8166, 24575)\n"
     ]
    },
    {
     "data": {
      "text/html": [
       "<div>\n",
       "<style scoped>\n",
       "    .dataframe tbody tr th:only-of-type {\n",
       "        vertical-align: middle;\n",
       "    }\n",
       "\n",
       "    .dataframe tbody tr th {\n",
       "        vertical-align: top;\n",
       "    }\n",
       "\n",
       "    .dataframe thead th {\n",
       "        text-align: right;\n",
       "    }\n",
       "</style>\n",
       "<table border=\"1\" class=\"dataframe\">\n",
       "  <thead>\n",
       "    <tr style=\"text-align: right;\">\n",
       "      <th></th>\n",
       "      <th>000 mosquitoes</th>\n",
       "      <th>000 yard</th>\n",
       "      <th>100 acres</th>\n",
       "      <th>100 away</th>\n",
       "      <th>100 bug</th>\n",
       "      <th>100 bug free</th>\n",
       "      <th>100 bugs</th>\n",
       "      <th>100 failure</th>\n",
       "      <th>100 failure rate</th>\n",
       "      <th>100 feet</th>\n",
       "      <th>...</th>\n",
       "      <th>zika virus mosquito</th>\n",
       "      <th>zika works</th>\n",
       "      <th>zillions bugs</th>\n",
       "      <th>zip lock</th>\n",
       "      <th>zip sound</th>\n",
       "      <th>zip tie</th>\n",
       "      <th>zip ties</th>\n",
       "      <th>zip zap</th>\n",
       "      <th>zip zip</th>\n",
       "      <th>zip zip zap</th>\n",
       "    </tr>\n",
       "  </thead>\n",
       "  <tbody>\n",
       "    <tr>\n",
       "      <th>0</th>\n",
       "      <td>0.0</td>\n",
       "      <td>0.0</td>\n",
       "      <td>0.0</td>\n",
       "      <td>0.0</td>\n",
       "      <td>0.0</td>\n",
       "      <td>0.0</td>\n",
       "      <td>0.0</td>\n",
       "      <td>0.0</td>\n",
       "      <td>0.0</td>\n",
       "      <td>0.0</td>\n",
       "      <td>...</td>\n",
       "      <td>0.0</td>\n",
       "      <td>0.0</td>\n",
       "      <td>0.0</td>\n",
       "      <td>0.0</td>\n",
       "      <td>0.0</td>\n",
       "      <td>0.0</td>\n",
       "      <td>0.0</td>\n",
       "      <td>0.0</td>\n",
       "      <td>0.0</td>\n",
       "      <td>0.0</td>\n",
       "    </tr>\n",
       "    <tr>\n",
       "      <th>1</th>\n",
       "      <td>0.0</td>\n",
       "      <td>0.0</td>\n",
       "      <td>0.0</td>\n",
       "      <td>0.0</td>\n",
       "      <td>0.0</td>\n",
       "      <td>0.0</td>\n",
       "      <td>0.0</td>\n",
       "      <td>0.0</td>\n",
       "      <td>0.0</td>\n",
       "      <td>0.0</td>\n",
       "      <td>...</td>\n",
       "      <td>0.0</td>\n",
       "      <td>0.0</td>\n",
       "      <td>0.0</td>\n",
       "      <td>0.0</td>\n",
       "      <td>0.0</td>\n",
       "      <td>0.0</td>\n",
       "      <td>0.0</td>\n",
       "      <td>0.0</td>\n",
       "      <td>0.0</td>\n",
       "      <td>0.0</td>\n",
       "    </tr>\n",
       "    <tr>\n",
       "      <th>2</th>\n",
       "      <td>0.0</td>\n",
       "      <td>0.0</td>\n",
       "      <td>0.0</td>\n",
       "      <td>0.0</td>\n",
       "      <td>0.0</td>\n",
       "      <td>0.0</td>\n",
       "      <td>0.0</td>\n",
       "      <td>0.0</td>\n",
       "      <td>0.0</td>\n",
       "      <td>0.0</td>\n",
       "      <td>...</td>\n",
       "      <td>0.0</td>\n",
       "      <td>0.0</td>\n",
       "      <td>0.0</td>\n",
       "      <td>0.0</td>\n",
       "      <td>0.0</td>\n",
       "      <td>0.0</td>\n",
       "      <td>0.0</td>\n",
       "      <td>0.0</td>\n",
       "      <td>0.0</td>\n",
       "      <td>0.0</td>\n",
       "    </tr>\n",
       "    <tr>\n",
       "      <th>3</th>\n",
       "      <td>0.0</td>\n",
       "      <td>0.0</td>\n",
       "      <td>0.0</td>\n",
       "      <td>0.0</td>\n",
       "      <td>0.0</td>\n",
       "      <td>0.0</td>\n",
       "      <td>0.0</td>\n",
       "      <td>0.0</td>\n",
       "      <td>0.0</td>\n",
       "      <td>0.0</td>\n",
       "      <td>...</td>\n",
       "      <td>0.0</td>\n",
       "      <td>0.0</td>\n",
       "      <td>0.0</td>\n",
       "      <td>0.0</td>\n",
       "      <td>0.0</td>\n",
       "      <td>0.0</td>\n",
       "      <td>0.0</td>\n",
       "      <td>0.0</td>\n",
       "      <td>0.0</td>\n",
       "      <td>0.0</td>\n",
       "    </tr>\n",
       "    <tr>\n",
       "      <th>4</th>\n",
       "      <td>0.0</td>\n",
       "      <td>0.0</td>\n",
       "      <td>0.0</td>\n",
       "      <td>0.0</td>\n",
       "      <td>0.0</td>\n",
       "      <td>0.0</td>\n",
       "      <td>0.0</td>\n",
       "      <td>0.0</td>\n",
       "      <td>0.0</td>\n",
       "      <td>0.0</td>\n",
       "      <td>...</td>\n",
       "      <td>0.0</td>\n",
       "      <td>0.0</td>\n",
       "      <td>0.0</td>\n",
       "      <td>0.0</td>\n",
       "      <td>0.0</td>\n",
       "      <td>0.0</td>\n",
       "      <td>0.0</td>\n",
       "      <td>0.0</td>\n",
       "      <td>0.0</td>\n",
       "      <td>0.0</td>\n",
       "    </tr>\n",
       "    <tr>\n",
       "      <th>...</th>\n",
       "      <td>...</td>\n",
       "      <td>...</td>\n",
       "      <td>...</td>\n",
       "      <td>...</td>\n",
       "      <td>...</td>\n",
       "      <td>...</td>\n",
       "      <td>...</td>\n",
       "      <td>...</td>\n",
       "      <td>...</td>\n",
       "      <td>...</td>\n",
       "      <td>...</td>\n",
       "      <td>...</td>\n",
       "      <td>...</td>\n",
       "      <td>...</td>\n",
       "      <td>...</td>\n",
       "      <td>...</td>\n",
       "      <td>...</td>\n",
       "      <td>...</td>\n",
       "      <td>...</td>\n",
       "      <td>...</td>\n",
       "      <td>...</td>\n",
       "    </tr>\n",
       "    <tr>\n",
       "      <th>8161</th>\n",
       "      <td>0.0</td>\n",
       "      <td>0.0</td>\n",
       "      <td>0.0</td>\n",
       "      <td>0.0</td>\n",
       "      <td>0.0</td>\n",
       "      <td>0.0</td>\n",
       "      <td>0.0</td>\n",
       "      <td>0.0</td>\n",
       "      <td>0.0</td>\n",
       "      <td>0.0</td>\n",
       "      <td>...</td>\n",
       "      <td>0.0</td>\n",
       "      <td>0.0</td>\n",
       "      <td>0.0</td>\n",
       "      <td>0.0</td>\n",
       "      <td>0.0</td>\n",
       "      <td>0.0</td>\n",
       "      <td>0.0</td>\n",
       "      <td>0.0</td>\n",
       "      <td>0.0</td>\n",
       "      <td>0.0</td>\n",
       "    </tr>\n",
       "    <tr>\n",
       "      <th>8162</th>\n",
       "      <td>0.0</td>\n",
       "      <td>0.0</td>\n",
       "      <td>0.0</td>\n",
       "      <td>0.0</td>\n",
       "      <td>0.0</td>\n",
       "      <td>0.0</td>\n",
       "      <td>0.0</td>\n",
       "      <td>0.0</td>\n",
       "      <td>0.0</td>\n",
       "      <td>0.0</td>\n",
       "      <td>...</td>\n",
       "      <td>0.0</td>\n",
       "      <td>0.0</td>\n",
       "      <td>0.0</td>\n",
       "      <td>0.0</td>\n",
       "      <td>0.0</td>\n",
       "      <td>0.0</td>\n",
       "      <td>0.0</td>\n",
       "      <td>0.0</td>\n",
       "      <td>0.0</td>\n",
       "      <td>0.0</td>\n",
       "    </tr>\n",
       "    <tr>\n",
       "      <th>8163</th>\n",
       "      <td>0.0</td>\n",
       "      <td>0.0</td>\n",
       "      <td>0.0</td>\n",
       "      <td>0.0</td>\n",
       "      <td>0.0</td>\n",
       "      <td>0.0</td>\n",
       "      <td>0.0</td>\n",
       "      <td>0.0</td>\n",
       "      <td>0.0</td>\n",
       "      <td>0.0</td>\n",
       "      <td>...</td>\n",
       "      <td>0.0</td>\n",
       "      <td>0.0</td>\n",
       "      <td>0.0</td>\n",
       "      <td>0.0</td>\n",
       "      <td>0.0</td>\n",
       "      <td>0.0</td>\n",
       "      <td>0.0</td>\n",
       "      <td>0.0</td>\n",
       "      <td>0.0</td>\n",
       "      <td>0.0</td>\n",
       "    </tr>\n",
       "    <tr>\n",
       "      <th>8164</th>\n",
       "      <td>0.0</td>\n",
       "      <td>0.0</td>\n",
       "      <td>0.0</td>\n",
       "      <td>0.0</td>\n",
       "      <td>0.0</td>\n",
       "      <td>0.0</td>\n",
       "      <td>0.0</td>\n",
       "      <td>0.0</td>\n",
       "      <td>0.0</td>\n",
       "      <td>0.0</td>\n",
       "      <td>...</td>\n",
       "      <td>0.0</td>\n",
       "      <td>0.0</td>\n",
       "      <td>0.0</td>\n",
       "      <td>0.0</td>\n",
       "      <td>0.0</td>\n",
       "      <td>0.0</td>\n",
       "      <td>0.0</td>\n",
       "      <td>0.0</td>\n",
       "      <td>0.0</td>\n",
       "      <td>0.0</td>\n",
       "    </tr>\n",
       "    <tr>\n",
       "      <th>8165</th>\n",
       "      <td>0.0</td>\n",
       "      <td>0.0</td>\n",
       "      <td>0.0</td>\n",
       "      <td>0.0</td>\n",
       "      <td>0.0</td>\n",
       "      <td>0.0</td>\n",
       "      <td>0.0</td>\n",
       "      <td>0.0</td>\n",
       "      <td>0.0</td>\n",
       "      <td>0.0</td>\n",
       "      <td>...</td>\n",
       "      <td>0.0</td>\n",
       "      <td>0.0</td>\n",
       "      <td>0.0</td>\n",
       "      <td>0.0</td>\n",
       "      <td>0.0</td>\n",
       "      <td>0.0</td>\n",
       "      <td>0.0</td>\n",
       "      <td>0.0</td>\n",
       "      <td>0.0</td>\n",
       "      <td>0.0</td>\n",
       "    </tr>\n",
       "  </tbody>\n",
       "</table>\n",
       "<p>8166 rows × 24575 columns</p>\n",
       "</div>"
      ],
      "text/plain": [
       "      000 mosquitoes  000 yard  100 acres  100 away  100 bug  100 bug free  \\\n",
       "0                0.0       0.0        0.0       0.0      0.0           0.0   \n",
       "1                0.0       0.0        0.0       0.0      0.0           0.0   \n",
       "2                0.0       0.0        0.0       0.0      0.0           0.0   \n",
       "3                0.0       0.0        0.0       0.0      0.0           0.0   \n",
       "4                0.0       0.0        0.0       0.0      0.0           0.0   \n",
       "...              ...       ...        ...       ...      ...           ...   \n",
       "8161             0.0       0.0        0.0       0.0      0.0           0.0   \n",
       "8162             0.0       0.0        0.0       0.0      0.0           0.0   \n",
       "8163             0.0       0.0        0.0       0.0      0.0           0.0   \n",
       "8164             0.0       0.0        0.0       0.0      0.0           0.0   \n",
       "8165             0.0       0.0        0.0       0.0      0.0           0.0   \n",
       "\n",
       "      100 bugs  100 failure  100 failure rate  100 feet  ...  \\\n",
       "0          0.0          0.0               0.0       0.0  ...   \n",
       "1          0.0          0.0               0.0       0.0  ...   \n",
       "2          0.0          0.0               0.0       0.0  ...   \n",
       "3          0.0          0.0               0.0       0.0  ...   \n",
       "4          0.0          0.0               0.0       0.0  ...   \n",
       "...        ...          ...               ...       ...  ...   \n",
       "8161       0.0          0.0               0.0       0.0  ...   \n",
       "8162       0.0          0.0               0.0       0.0  ...   \n",
       "8163       0.0          0.0               0.0       0.0  ...   \n",
       "8164       0.0          0.0               0.0       0.0  ...   \n",
       "8165       0.0          0.0               0.0       0.0  ...   \n",
       "\n",
       "      zika virus mosquito  zika works  zillions bugs  zip lock  zip sound  \\\n",
       "0                     0.0         0.0            0.0       0.0        0.0   \n",
       "1                     0.0         0.0            0.0       0.0        0.0   \n",
       "2                     0.0         0.0            0.0       0.0        0.0   \n",
       "3                     0.0         0.0            0.0       0.0        0.0   \n",
       "4                     0.0         0.0            0.0       0.0        0.0   \n",
       "...                   ...         ...            ...       ...        ...   \n",
       "8161                  0.0         0.0            0.0       0.0        0.0   \n",
       "8162                  0.0         0.0            0.0       0.0        0.0   \n",
       "8163                  0.0         0.0            0.0       0.0        0.0   \n",
       "8164                  0.0         0.0            0.0       0.0        0.0   \n",
       "8165                  0.0         0.0            0.0       0.0        0.0   \n",
       "\n",
       "      zip tie  zip ties  zip zap  zip zip  zip zip zap  \n",
       "0         0.0       0.0      0.0      0.0          0.0  \n",
       "1         0.0       0.0      0.0      0.0          0.0  \n",
       "2         0.0       0.0      0.0      0.0          0.0  \n",
       "3         0.0       0.0      0.0      0.0          0.0  \n",
       "4         0.0       0.0      0.0      0.0          0.0  \n",
       "...       ...       ...      ...      ...          ...  \n",
       "8161      0.0       0.0      0.0      0.0          0.0  \n",
       "8162      0.0       0.0      0.0      0.0          0.0  \n",
       "8163      0.0       0.0      0.0      0.0          0.0  \n",
       "8164      0.0       0.0      0.0      0.0          0.0  \n",
       "8165      0.0       0.0      0.0      0.0          0.0  \n",
       "\n",
       "[8166 rows x 24575 columns]"
      ]
     },
     "execution_count": 89,
     "metadata": {},
     "output_type": "execute_result"
    },
    {
     "data": {
      "text/plain": [
       "(8166, 24580)"
      ]
     },
     "execution_count": 89,
     "metadata": {},
     "output_type": "execute_result"
    },
    {
     "data": {
      "text/html": [
       "<div>\n",
       "<style scoped>\n",
       "    .dataframe tbody tr th:only-of-type {\n",
       "        vertical-align: middle;\n",
       "    }\n",
       "\n",
       "    .dataframe tbody tr th {\n",
       "        vertical-align: top;\n",
       "    }\n",
       "\n",
       "    .dataframe thead th {\n",
       "        text-align: right;\n",
       "    }\n",
       "</style>\n",
       "<table border=\"1\" class=\"dataframe\">\n",
       "  <thead>\n",
       "    <tr style=\"text-align: right;\">\n",
       "      <th></th>\n",
       "      <th>rating</th>\n",
       "      <th>asin</th>\n",
       "      <th>reviewText</th>\n",
       "      <th>summary</th>\n",
       "      <th>review_words</th>\n",
       "      <th>000 mosquitoes</th>\n",
       "      <th>000 yard</th>\n",
       "      <th>100 acres</th>\n",
       "      <th>100 away</th>\n",
       "      <th>100 bug</th>\n",
       "      <th>...</th>\n",
       "      <th>zika virus mosquito</th>\n",
       "      <th>zika works</th>\n",
       "      <th>zillions bugs</th>\n",
       "      <th>zip lock</th>\n",
       "      <th>zip sound</th>\n",
       "      <th>zip tie</th>\n",
       "      <th>zip ties</th>\n",
       "      <th>zip zap</th>\n",
       "      <th>zip zip</th>\n",
       "      <th>zip zip zap</th>\n",
       "    </tr>\n",
       "  </thead>\n",
       "  <tbody>\n",
       "    <tr>\n",
       "      <th>0</th>\n",
       "      <td>2.0</td>\n",
       "      <td>B00004R9VV</td>\n",
       "      <td>Poor product. It will kill insects after it is...</td>\n",
       "      <td>Flowtron Insect Killer</td>\n",
       "      <td>poor product kill insects really dark outside ...</td>\n",
       "      <td>0.0</td>\n",
       "      <td>0.0</td>\n",
       "      <td>0.0</td>\n",
       "      <td>0.0</td>\n",
       "      <td>0.0</td>\n",
       "      <td>...</td>\n",
       "      <td>0.0</td>\n",
       "      <td>0.0</td>\n",
       "      <td>0.0</td>\n",
       "      <td>0.0</td>\n",
       "      <td>0.0</td>\n",
       "      <td>0.0</td>\n",
       "      <td>0.0</td>\n",
       "      <td>0.0</td>\n",
       "      <td>0.0</td>\n",
       "      <td>0.0</td>\n",
       "    </tr>\n",
       "    <tr>\n",
       "      <th>1</th>\n",
       "      <td>5.0</td>\n",
       "      <td>B00004R9VV</td>\n",
       "      <td>This bug popper really does a great job. You d...</td>\n",
       "      <td>Works Great!</td>\n",
       "      <td>bug popper really great job clean ever often r...</td>\n",
       "      <td>0.0</td>\n",
       "      <td>0.0</td>\n",
       "      <td>0.0</td>\n",
       "      <td>0.0</td>\n",
       "      <td>0.0</td>\n",
       "      <td>...</td>\n",
       "      <td>0.0</td>\n",
       "      <td>0.0</td>\n",
       "      <td>0.0</td>\n",
       "      <td>0.0</td>\n",
       "      <td>0.0</td>\n",
       "      <td>0.0</td>\n",
       "      <td>0.0</td>\n",
       "      <td>0.0</td>\n",
       "      <td>0.0</td>\n",
       "      <td>0.0</td>\n",
       "    </tr>\n",
       "    <tr>\n",
       "      <th>2</th>\n",
       "      <td>1.0</td>\n",
       "      <td>B00004R9VV</td>\n",
       "      <td>It seemed to be doing the job. Then after less...</td>\n",
       "      <td>Already Broke!</td>\n",
       "      <td>seemed job less year quit working bought new b...</td>\n",
       "      <td>0.0</td>\n",
       "      <td>0.0</td>\n",
       "      <td>0.0</td>\n",
       "      <td>0.0</td>\n",
       "      <td>0.0</td>\n",
       "      <td>...</td>\n",
       "      <td>0.0</td>\n",
       "      <td>0.0</td>\n",
       "      <td>0.0</td>\n",
       "      <td>0.0</td>\n",
       "      <td>0.0</td>\n",
       "      <td>0.0</td>\n",
       "      <td>0.0</td>\n",
       "      <td>0.0</td>\n",
       "      <td>0.0</td>\n",
       "      <td>0.0</td>\n",
       "    </tr>\n",
       "  </tbody>\n",
       "</table>\n",
       "<p>3 rows × 24580 columns</p>\n",
       "</div>"
      ],
      "text/plain": [
       "   rating        asin                                         reviewText  \\\n",
       "0     2.0  B00004R9VV  Poor product. It will kill insects after it is...   \n",
       "1     5.0  B00004R9VV  This bug popper really does a great job. You d...   \n",
       "2     1.0  B00004R9VV  It seemed to be doing the job. Then after less...   \n",
       "\n",
       "                  summary                                       review_words  \\\n",
       "0  Flowtron Insect Killer  poor product kill insects really dark outside ...   \n",
       "1            Works Great!  bug popper really great job clean ever often r...   \n",
       "2          Already Broke!  seemed job less year quit working bought new b...   \n",
       "\n",
       "   000 mosquitoes  000 yard  100 acres  100 away  100 bug  ...  \\\n",
       "0             0.0       0.0        0.0       0.0      0.0  ...   \n",
       "1             0.0       0.0        0.0       0.0      0.0  ...   \n",
       "2             0.0       0.0        0.0       0.0      0.0  ...   \n",
       "\n",
       "   zika virus mosquito  zika works  zillions bugs  zip lock  zip sound  \\\n",
       "0                  0.0         0.0            0.0       0.0        0.0   \n",
       "1                  0.0         0.0            0.0       0.0        0.0   \n",
       "2                  0.0         0.0            0.0       0.0        0.0   \n",
       "\n",
       "   zip tie  zip ties  zip zap  zip zip  zip zip zap  \n",
       "0      0.0       0.0      0.0      0.0          0.0  \n",
       "1      0.0       0.0      0.0      0.0          0.0  \n",
       "2      0.0       0.0      0.0      0.0          0.0  \n",
       "\n",
       "[3 rows x 24580 columns]"
      ]
     },
     "execution_count": 89,
     "metadata": {},
     "output_type": "execute_result"
    },
    {
     "name": "stdout",
     "output_type": "stream",
     "text": [
      "Sum of na's, by column:  rating          0\n",
      "asin            0\n",
      "reviewText      0\n",
      "summary         0\n",
      "review_words    0\n",
      "               ..\n",
      "zip tie         0\n",
      "zip ties        0\n",
      "zip zap         0\n",
      "zip zip         0\n",
      "zip zip zap     0\n",
      "Length: 24580, dtype: int64\n",
      "Sum of all na's in df:  0\n"
     ]
    },
    {
     "data": {
      "text/plain": [
       "(8166, 24580)"
      ]
     },
     "execution_count": 89,
     "metadata": {},
     "output_type": "execute_result"
    },
    {
     "name": "stdout",
     "output_type": "stream",
     "text": [
      "sum of target2 =  6252\n"
     ]
    },
    {
     "data": {
      "text/plain": [
       "0    poor product kill insects really dark outside ...\n",
       "1    bug popper really great job clean ever often r...\n",
       "2    seemed job less year quit working bought new b...\n",
       "3    would like believe good reviews bk40d makes wo...\n",
       "4    houston particularly difficult time mosquitos ...\n",
       "Name: review_words, dtype: object"
      ]
     },
     "execution_count": 89,
     "metadata": {},
     "output_type": "execute_result"
    },
    {
     "data": {
      "text/html": [
       "<div>\n",
       "<style scoped>\n",
       "    .dataframe tbody tr th:only-of-type {\n",
       "        vertical-align: middle;\n",
       "    }\n",
       "\n",
       "    .dataframe tbody tr th {\n",
       "        vertical-align: top;\n",
       "    }\n",
       "\n",
       "    .dataframe thead th {\n",
       "        text-align: right;\n",
       "    }\n",
       "</style>\n",
       "<table border=\"1\" class=\"dataframe\">\n",
       "  <thead>\n",
       "    <tr style=\"text-align: right;\">\n",
       "      <th></th>\n",
       "      <th>rating</th>\n",
       "      <th>asin</th>\n",
       "      <th>reviewText</th>\n",
       "      <th>summary</th>\n",
       "      <th>review_words</th>\n",
       "      <th>000 mosquitoes</th>\n",
       "      <th>000 yard</th>\n",
       "      <th>100 acres</th>\n",
       "      <th>100 away</th>\n",
       "      <th>100 bug</th>\n",
       "      <th>...</th>\n",
       "      <th>zika works</th>\n",
       "      <th>zillions bugs</th>\n",
       "      <th>zip lock</th>\n",
       "      <th>zip sound</th>\n",
       "      <th>zip tie</th>\n",
       "      <th>zip ties</th>\n",
       "      <th>zip zap</th>\n",
       "      <th>zip zip</th>\n",
       "      <th>zip zip zap</th>\n",
       "      <th>target2</th>\n",
       "    </tr>\n",
       "  </thead>\n",
       "  <tbody>\n",
       "    <tr>\n",
       "      <th>0</th>\n",
       "      <td>2.0</td>\n",
       "      <td>B00004R9VV</td>\n",
       "      <td>Poor product. It will kill insects after it is...</td>\n",
       "      <td>Flowtron Insect Killer</td>\n",
       "      <td>poor product kill insects really dark outside ...</td>\n",
       "      <td>0.0</td>\n",
       "      <td>0.0</td>\n",
       "      <td>0.0</td>\n",
       "      <td>0.0</td>\n",
       "      <td>0.0</td>\n",
       "      <td>...</td>\n",
       "      <td>0.0</td>\n",
       "      <td>0.0</td>\n",
       "      <td>0.0</td>\n",
       "      <td>0.0</td>\n",
       "      <td>0.0</td>\n",
       "      <td>0.0</td>\n",
       "      <td>0.0</td>\n",
       "      <td>0.0</td>\n",
       "      <td>0.0</td>\n",
       "      <td>0</td>\n",
       "    </tr>\n",
       "    <tr>\n",
       "      <th>1</th>\n",
       "      <td>5.0</td>\n",
       "      <td>B00004R9VV</td>\n",
       "      <td>This bug popper really does a great job. You d...</td>\n",
       "      <td>Works Great!</td>\n",
       "      <td>bug popper really great job clean ever often r...</td>\n",
       "      <td>0.0</td>\n",
       "      <td>0.0</td>\n",
       "      <td>0.0</td>\n",
       "      <td>0.0</td>\n",
       "      <td>0.0</td>\n",
       "      <td>...</td>\n",
       "      <td>0.0</td>\n",
       "      <td>0.0</td>\n",
       "      <td>0.0</td>\n",
       "      <td>0.0</td>\n",
       "      <td>0.0</td>\n",
       "      <td>0.0</td>\n",
       "      <td>0.0</td>\n",
       "      <td>0.0</td>\n",
       "      <td>0.0</td>\n",
       "      <td>1</td>\n",
       "    </tr>\n",
       "    <tr>\n",
       "      <th>2</th>\n",
       "      <td>1.0</td>\n",
       "      <td>B00004R9VV</td>\n",
       "      <td>It seemed to be doing the job. Then after less...</td>\n",
       "      <td>Already Broke!</td>\n",
       "      <td>seemed job less year quit working bought new b...</td>\n",
       "      <td>0.0</td>\n",
       "      <td>0.0</td>\n",
       "      <td>0.0</td>\n",
       "      <td>0.0</td>\n",
       "      <td>0.0</td>\n",
       "      <td>...</td>\n",
       "      <td>0.0</td>\n",
       "      <td>0.0</td>\n",
       "      <td>0.0</td>\n",
       "      <td>0.0</td>\n",
       "      <td>0.0</td>\n",
       "      <td>0.0</td>\n",
       "      <td>0.0</td>\n",
       "      <td>0.0</td>\n",
       "      <td>0.0</td>\n",
       "      <td>0</td>\n",
       "    </tr>\n",
       "  </tbody>\n",
       "</table>\n",
       "<p>3 rows × 24581 columns</p>\n",
       "</div>"
      ],
      "text/plain": [
       "   rating        asin                                         reviewText  \\\n",
       "0     2.0  B00004R9VV  Poor product. It will kill insects after it is...   \n",
       "1     5.0  B00004R9VV  This bug popper really does a great job. You d...   \n",
       "2     1.0  B00004R9VV  It seemed to be doing the job. Then after less...   \n",
       "\n",
       "                  summary                                       review_words  \\\n",
       "0  Flowtron Insect Killer  poor product kill insects really dark outside ...   \n",
       "1            Works Great!  bug popper really great job clean ever often r...   \n",
       "2          Already Broke!  seemed job less year quit working bought new b...   \n",
       "\n",
       "   000 mosquitoes  000 yard  100 acres  100 away  100 bug  ...  zika works  \\\n",
       "0             0.0       0.0        0.0       0.0      0.0  ...         0.0   \n",
       "1             0.0       0.0        0.0       0.0      0.0  ...         0.0   \n",
       "2             0.0       0.0        0.0       0.0      0.0  ...         0.0   \n",
       "\n",
       "   zillions bugs  zip lock  zip sound  zip tie  zip ties  zip zap  zip zip  \\\n",
       "0            0.0       0.0        0.0      0.0       0.0      0.0      0.0   \n",
       "1            0.0       0.0        0.0      0.0       0.0      0.0      0.0   \n",
       "2            0.0       0.0        0.0      0.0       0.0      0.0      0.0   \n",
       "\n",
       "   zip zip zap  target2  \n",
       "0          0.0        0  \n",
       "1          0.0        1  \n",
       "2          0.0        0  \n",
       "\n",
       "[3 rows x 24581 columns]"
      ]
     },
     "execution_count": 89,
     "metadata": {},
     "output_type": "execute_result"
    },
    {
     "data": {
      "text/plain": [
       "\"X = df\\nX = np.array(df.loc[row_indexer,col_indexer][:, df.columns != 'target2'])\\ny = np.array(df.loc[row_indexer,col_indexer][:, df.columns == 'target2'])\""
      ]
     },
     "execution_count": 89,
     "metadata": {},
     "output_type": "execute_result"
    },
    {
     "data": {
      "text/plain": [
       "6252"
      ]
     },
     "execution_count": 89,
     "metadata": {},
     "output_type": "execute_result"
    },
    {
     "data": {
      "text/plain": [
       "'from sklearn.ensemble import RandomForestClassifier\\ntext_classifier2 = RandomForestClassifier(n_estimators=100, random_state=0)  \\ntext_classifier2.fit(X_train, y_train)\\n'"
      ]
     },
     "execution_count": 89,
     "metadata": {},
     "output_type": "execute_result"
    },
    {
     "name": "stderr",
     "output_type": "stream",
     "text": [
      "C:\\Users\\lucin\\anaconda3\\lib\\site-packages\\sklearn\\utils\\validation.py:63: DataConversionWarning: A column-vector y was passed when a 1d array was expected. Please change the shape of y to (n_samples, ), for example using ravel().\n",
      "  return f(*args, **kwargs)\n"
     ]
    },
    {
     "data": {
      "text/plain": [
       "LogisticRegression()"
      ]
     },
     "execution_count": 89,
     "metadata": {},
     "output_type": "execute_result"
    },
    {
     "name": "stdout",
     "output_type": "stream",
     "text": [
      "[[ 126  347]\n",
      " [  14 1555]]\n",
      "              precision    recall  f1-score   support\n",
      "\n",
      "           0       0.90      0.27      0.41       473\n",
      "           1       0.82      0.99      0.90      1569\n",
      "\n",
      "    accuracy                           0.82      2042\n",
      "   macro avg       0.86      0.63      0.65      2042\n",
      "weighted avg       0.84      0.82      0.78      2042\n",
      "\n",
      "\n",
      "Accuracy of N-grams + TFIDF + RFC model  model predicting Rating of Review is 0.8232\n"
     ]
    },
    {
     "data": {
      "text/plain": [
       "[<matplotlib.lines.Line2D at 0x276f25ec5b0>]"
      ]
     },
     "execution_count": 89,
     "metadata": {},
     "output_type": "execute_result"
    },
    {
     "data": {
      "text/plain": [
       "Text(0.5, 1.0, 'ROC Curve for TFIDF 2,3 and 4-gram + RF model to Predict Rating of 4 or 5')"
      ]
     },
     "execution_count": 89,
     "metadata": {},
     "output_type": "execute_result"
    },
    {
     "data": {
      "text/plain": [
       "Text(0.5, 0, 'False Positive Rate')"
      ]
     },
     "execution_count": 89,
     "metadata": {},
     "output_type": "execute_result"
    },
    {
     "data": {
      "text/plain": [
       "Text(0, 0.5, 'True Positive Rate')"
      ]
     },
     "execution_count": 89,
     "metadata": {},
     "output_type": "execute_result"
    },
    {
     "data": {
      "text/plain": [
       "<matplotlib.legend.Legend at 0x276f25e05e0>"
      ]
     },
     "execution_count": 89,
     "metadata": {},
     "output_type": "execute_result"
    },
    {
     "data": {
      "image/png": "[encoded data removed]",
      "text/plain": [
       "<Figure size 432x288 with 1 Axes>"
      ]
     },
     "metadata": {
      "needs_background": "light"
     },
     "output_type": "display_data"
    },
    {
     "name": "stdout",
     "output_type": "stream",
     "text": [
      "The TFIDF + 3-gram + RF model to Predict Rating of 4 or 5, AUROC is 0.8921\n"
     ]
    },
    {
     "data": {
      "text/plain": [
       "[<matplotlib.lines.Line2D at 0x276c398bca0>]"
      ]
     },
     "execution_count": 89,
     "metadata": {},
     "output_type": "execute_result"
    },
    {
     "data": {
      "text/plain": [
       "Text(0.5, 1.0, 'ROC Curve for TFIDF 2,3 and 4-gram + RF model to Predict Rating of 4 or 5')"
      ]
     },
     "execution_count": 89,
     "metadata": {},
     "output_type": "execute_result"
    },
    {
     "data": {
      "text/plain": [
       "Text(0.5, 0, 'False Positive Rate')"
      ]
     },
     "execution_count": 89,
     "metadata": {},
     "output_type": "execute_result"
    },
    {
     "data": {
      "text/plain": [
       "Text(0, 0.5, 'True Positive Rate')"
      ]
     },
     "execution_count": 89,
     "metadata": {},
     "output_type": "execute_result"
    },
    {
     "data": {
      "text/plain": [
       "<matplotlib.legend.Legend at 0x276c398b1f0>"
      ]
     },
     "execution_count": 89,
     "metadata": {},
     "output_type": "execute_result"
    },
    {
     "data": {
      "image/png": "[encoded data removed]",
      "text/plain": [
       "<Figure size 432x288 with 1 Axes>"
      ]
     },
     "metadata": {
      "needs_background": "light"
     },
     "output_type": "display_data"
    },
    {
     "name": "stdout",
     "output_type": "stream",
     "text": [
      "The TFIDF + 2,3,4-gram + RF model to Predict Rating of 4 or 5, AUROC is 0.8921\n"
     ]
    },
    {
     "data": {
      "text/plain": [
       "array([0.3185455 , 0.80479872, 0.91293707, 0.79469582, 0.7575985 ,\n",
       "       0.70772423, 0.80603295, 0.71788942, 0.6987671 , 0.90256298,\n",
       "       0.82749336, 0.69034011, 0.90525178, 0.87726643, 0.73314029,\n",
       "       0.76760039, 0.83834328, 0.92403585, 0.83599085, 0.59163316])"
      ]
     },
     "execution_count": 89,
     "metadata": {},
     "output_type": "execute_result"
    },
    {
     "data": {
      "text/plain": [
       "<Figure size 1440x864 with 0 Axes>"
      ]
     },
     "execution_count": 89,
     "metadata": {},
     "output_type": "execute_result"
    },
    {
     "data": {
      "text/plain": [
       "(0.0, 1.0)"
      ]
     },
     "execution_count": 89,
     "metadata": {},
     "output_type": "execute_result"
    },
    {
     "name": "stderr",
     "output_type": "stream",
     "text": [
      "C:\\Users\\lucin\\anaconda3\\lib\\site-packages\\seaborn\\distributions.py:2557: FutureWarning: `distplot` is a deprecated function and will be removed in a future version. Please adapt your code to use either `displot` (a figure-level function with similar flexibility) or `histplot` (an axes-level function for histograms).\n",
      "  warnings.warn(msg, FutureWarning)\n"
     ]
    },
    {
     "data": {
      "text/plain": [
       "<AxesSubplot:ylabel='Density'>"
      ]
     },
     "execution_count": 89,
     "metadata": {},
     "output_type": "execute_result"
    },
    {
     "name": "stderr",
     "output_type": "stream",
     "text": [
      "C:\\Users\\lucin\\anaconda3\\lib\\site-packages\\seaborn\\distributions.py:2557: FutureWarning: `distplot` is a deprecated function and will be removed in a future version. Please adapt your code to use either `displot` (a figure-level function with similar flexibility) or `histplot` (an axes-level function for histograms).\n",
      "  warnings.warn(msg, FutureWarning)\n"
     ]
    },
    {
     "data": {
      "text/plain": [
       "<AxesSubplot:ylabel='Density'>"
      ]
     },
     "execution_count": 89,
     "metadata": {},
     "output_type": "execute_result"
    },
    {
     "data": {
      "text/plain": [
       "<matplotlib.legend.Legend at 0x276b4487f10>"
      ]
     },
     "execution_count": 89,
     "metadata": {},
     "output_type": "execute_result"
    },
    {
     "data": {
      "text/plain": [
       "Text(0.5, 1.0, 'Random Forest Predicted vs Actual Rating of 4 or 5 \\n Input variables are Tri-grams of words in Reviews')"
      ]
     },
     "execution_count": 89,
     "metadata": {},
     "output_type": "execute_result"
    },
    {
     "data": {
      "text/plain": [
       "Text(0, 0.5, 'Probability Density')"
      ]
     },
     "execution_count": 89,
     "metadata": {},
     "output_type": "execute_result"
    },
    {
     "data": {
      "text/plain": [
       "Text(0.5, 0, 'Probablility of 4 or 5 Rating based on Review words')"
      ]
     },
     "execution_count": 89,
     "metadata": {},
     "output_type": "execute_result"
    },
    {
     "data": {
      "image/png": "[encoded data removed]",
      "text/plain": [
       "<Figure size 1440x864 with 1 Axes>"
      ]
     },
     "metadata": {
      "needs_background": "light"
     },
     "output_type": "display_data"
    }
   ],
   "source": [
    "# Use the load_merge function to load the review and meta datasets, filter to one product, and merge the data for that product\n",
    "\n",
    "# Take a subset of data, specifically one product   B00004R9VV  Flowtron Insect Killer\n",
    "# For this product there should be 8166 rows and 31 columns in the Prod_merge output\n",
    "\n",
    "Prod_merge = load_merge(\"Meta_Dataset.csv\", \"Reviews_Dataset.csv\"   , 'B00004R9VV')    # OR  B00004R9VV\n",
    "Prod_merge.head()\n",
    "\n",
    "# Check for nulls in each column\n",
    "\n",
    "df = Prod_merge\n",
    "df.isnull().sum(axis = 0)\n",
    "\n",
    "\n",
    "# Choose the features (column names) that we want to work with\n",
    "\n",
    "# list(Prod_merge)\n",
    "feat1 = ['rating',\n",
    " 'asin',\n",
    " 'reviewText',\n",
    " 'summary']\n",
    "\n",
    "feat1\n",
    "\n",
    "# Create a df that includes the one hundred products with the most ratings = 1.  This will generate at dataset that has a \n",
    "# a variety of flaws that we can build recommendations upon.\n",
    "\n",
    "Prod_merge = Prod_merge[feat1]\n",
    "Prod_merge.shape\n",
    "# Prod_merge.head(3)\n",
    "\n",
    "\n",
    "# Define stop_words and use the pre-process function to pre-process the review_words in Prod_merge\n",
    "\n",
    "stop_words = stopwords.words('english')\n",
    "df = preprocess(Prod_merge, stop_words)\n",
    "\n",
    "# NOTE !!!!!!    Do not do this twice or more- it repeats the concatenation.\n",
    "\n",
    "# Let's count the most common terms in the 'name' column   ADAPTED FROM CAPSTONE AND MEL\n",
    "df.review_words.str.split(expand=True).stack().value_counts()\n",
    "\n",
    "# Make N-grams (Uni-gram, Bi-gram or Tri-gram)\n",
    "\n",
    "# max_df - discard words that show up in x percent of documents has a scale 0 - 1\n",
    "# min_df - is the opposite, minimum frequency can be a percent or raw number of documents\n",
    "# ngram_range is normally (1,1) for single words, 2,2, for bi-grams, 3,3 for tri-grams\n",
    "\n",
    "from sklearn.feature_extraction.text import TfidfVectorizer\n",
    "tfidf_vectorizer = TfidfVectorizer(max_df=0.90, min_df=2, stop_words='english', ngram_range=(2,4))\n",
    "# TF-IDF feature matrix\n",
    "dtm = tfidf_vectorizer.fit_transform(df['review_words'])\n",
    "\n",
    "# dtm\n",
    "\n",
    "print(\"dtm shape is: \",dtm.shape)\n",
    "\n",
    "# convert to dataframe for clustering\n",
    "bow = pd.DataFrame(dtm.toarray(), columns = tfidf_vectorizer.get_feature_names())\n",
    "print(\"Here is part of the Trigram table\")\n",
    "print(\"bow shape is: \", bow.shape)\n",
    "bow\n",
    "\n",
    "# To prevent concat creating many na's, reset the indices of both df and bow, so that they line up for the concat.\n",
    "df.reset_index(drop=True, inplace=True)\n",
    "bow.reset_index(drop=True, inplace=True)\n",
    "\n",
    "# Now concatenate df and bow (bag of words-- in this case tri-grams -- that represent each review)\n",
    "frames = [df, bow]\n",
    "df3 = pd.concat(frames, axis = 1, ignore_index=False,)\n",
    "\n",
    "\n",
    "\n",
    "df3.shape\n",
    "df3.head(3)\n",
    "print(\"Sum of na's, by column: \", df3.isnull().sum(axis = 0))\n",
    "print(\"Sum of all na's in df: \", df3.isna().sum().sum())\n",
    "df3.shape\n",
    "\n",
    "# Create prediction categories of \n",
    "#     0 = Review of 1,2 or 3 stars \n",
    "#     1 = Review of 4 or 5 stars.  \n",
    "\n",
    "# Make df = the df with n-grams (df3)\n",
    "df = df3\n",
    "\n",
    "# TO SET UP 2 CLASS PREDICTION TARGETS:\n",
    "df['target2'] = 0\n",
    "\n",
    "# Create a new column  called 'target2' where Rating is <= 3, then target2 is 0, otherwise the target2 = 1\n",
    "# To Focus on BAD reviews (1,2,3 star)  use'target2' where Rating is <= 3, then target2 is 1, otherwise the target2 = 0\n",
    "#              OR  df['target2'] = np.where(df['rating']<= 3, 1, 0)   HOWEVER all the results are the same- no difference.\n",
    "\n",
    "df['target2'] = np.where(df['rating']<= 3, 0, 1)\n",
    "print(\"sum of target2 = \",df.target2.sum())    # To verify that there aore 1096 reviews that are 4 or 5.\n",
    "\n",
    "\n",
    "# df.dtypes\n",
    "# df.head()\n",
    "df.review_words.head()\n",
    "\n",
    "df.head(3)\n",
    "\n",
    "# list(df)  #See the column names, including the word combinations\n",
    "\n",
    "# Set up df so it just contains the pre-processed words and the target\n",
    "\n",
    "# print(list(df))\n",
    "df = df.drop(['rating', 'asin', 'reviewText', 'summary',   'review_words'], axis=1)\n",
    "# list(df)\n",
    "\n",
    "'''X = df\n",
    "X = np.array(df.loc[row_indexer,col_indexer][:, df.columns != 'target2'])\n",
    "y = np.array(df.loc[row_indexer,col_indexer][:, df.columns == 'target2'])'''\n",
    "\n",
    "X = df\n",
    "X = np.array(df.loc[:, df.columns != 'target2'])\n",
    "y = np.array(df.loc[:, df.columns == 'target2'])\n",
    "\n",
    "# may need to use this  .loc[row_indexer,col_indexer]     instead of .loc\n",
    "\n",
    "df.target2.sum()\n",
    "\n",
    "# Random Forest model on n-grams\n",
    "\n",
    "from sklearn.model_selection import train_test_split  \n",
    "X_train, X_test, y_train, y_test = train_test_split(X, y, test_size=0.25, random_state=0)\n",
    "\n",
    "\n",
    " \n",
    "'''from sklearn.ensemble import RandomForestClassifier\n",
    "text_classifier2 = RandomForestClassifier(n_estimators=100, random_state=0)  \n",
    "text_classifier2.fit(X_train, y_train)\n",
    "'''\n",
    "\n",
    "# Try Logistic Regression with default settings\n",
    "text_classifier2 = LogisticRegression()\n",
    "text_classifier2.fit(X_train, y_train)\n",
    "\n",
    "# Make it possible to change threshold for predicting \n",
    "threshold = 0.6\n",
    "\n",
    "predicted_proba = text_classifier2.predict_proba(X_test)\n",
    "y_pred = (predicted_proba [:,1] >= threshold).astype('int')\n",
    " \n",
    " \n",
    "# y_pred = text_classifier2.predict(X_test)\n",
    " \n",
    "from sklearn.metrics import classification_report, confusion_matrix, accuracy_score\n",
    " \n",
    "print(confusion_matrix(y_test,y_pred))  \n",
    "print(classification_report(y_test,y_pred))    # NOTE this means columns are predicted, rows are actual values\n",
    "\n",
    "print()\n",
    "print(\"Accuracy of N-grams + TFIDF + RFC model  model predicting Rating of Review is {:.4f}\".format(metrics.accuracy_score(y_test, y_pred)))\n",
    "\n",
    "\n",
    "# Let's see how much lift the model gives.  The area under the curve is compared to 0.50.\n",
    "y_pred = text_classifier2.predict(X_test)\n",
    "from sklearn import metrics\n",
    "y_pred_proba2 = text_classifier2.predict_proba(X_test)[::,1]    # Leave in this line, because it's the truer one.\n",
    "# y_pred_proba2 = y_pred_proba[:,1]\n",
    "fpr,tpr,_ = metrics.roc_curve(y_test, y_pred_proba2)\n",
    "\n",
    "auc = metrics.roc_auc_score(y_test, y_pred_proba2)\n",
    "#  auc2 = roc_auc_score(y_test, y_pred)\n",
    "\n",
    "plt.plot(fpr,tpr,label=\"Standardized, auc=\"+str(auc))  \n",
    "plt.title('ROC Curve for TFIDF 2,3 and 4-gram + RF model to Predict Rating of 4 or 5')\n",
    "plt.xlabel('False Positive Rate')\n",
    "plt.ylabel('True Positive Rate')\n",
    "plt.legend(loc=4)\n",
    "plt.show()\n",
    "\n",
    "print(\"The TFIDF + 3-gram + RF model to Predict Rating of 4 or 5, AUROC is {:.4f}\".format(auc))\n",
    "\n",
    "\n",
    "# Let's see how much lift the model gives.  The area under the curve is compared to 0.50.\n",
    "y_pred = text_classifier2.predict(X_test)\n",
    "from sklearn import metrics\n",
    "y_pred_proba2 = text_classifier2.predict_proba(X_test)[::,1]    # Leave in this line, because it's the truer one.\n",
    "# y_pred_proba2 = y_pred_proba[:,1]\n",
    "fpr,tpr,_ = metrics.roc_curve(y_test, y_pred_proba2)\n",
    "\n",
    "auc = metrics.roc_auc_score(y_test, y_pred_proba2)\n",
    "#  auc2 = roc_auc_score(y_test, y_pred)\n",
    "\n",
    "plt.plot(fpr,tpr,label=\"Standardized, auc=\"+str(auc))  \n",
    "plt.title('ROC Curve for TFIDF 2,3 and 4-gram + RF model to Predict Rating of 4 or 5')\n",
    "plt.xlabel('False Positive Rate')\n",
    "plt.ylabel('True Positive Rate')\n",
    "plt.legend(loc=4)\n",
    "plt.show()\n",
    "\n",
    "print(\"The TFIDF + 2,3,4-gram + RF model to Predict Rating of 4 or 5, AUROC is {:.4f}\".format(auc))\n",
    "\n",
    "\n",
    "\n",
    "\n",
    "y_pred_proba = text_classifier2.predict_proba(X_test)[::,1]\n",
    "y_pred_proba[0:20]\n",
    "\n",
    "# Raw distribution of counts is highly skewed \n",
    "plt.figure(figsize=(20,12))\n",
    "plt.xlim(0,1)\n",
    "sns.distplot(y_pred_proba)\n",
    "sns.distplot(y_test, color='red', bins = 35)\n",
    "plt.legend(['Predicted', 'Actual'], fontsize = 20)\n",
    "plt.title('Random Forest Predicted vs Actual Rating of 4 or 5 \\n Input variables are Tri-grams of words in Reviews', fontsize = 28)\n",
    "plt.ylabel('Probability Density', fontsize=16)\n",
    "plt.xlabel('Probablility of 4 or 5 Rating based on Review words', fontsize=16)\n",
    "plt.show()\n",
    "\n"
   ]
  },
  {
   "cell_type": "code",
   "execution_count": null,
   "id": "f7a8d312",
   "metadata": {
    "scrolled": false
   },
   "outputs": [],
   "source": []
  }
 ],
 "metadata": {
  "kernelspec": {
   "display_name": "Python 3",
   "language": "python",
   "name": "python3"
  },
  "language_info": {
   "codemirror_mode": {
    "name": "ipython",
    "version": 3
   },
   "file_extension": ".py",
   "mimetype": "text/x-python",
   "name": "python",
   "nbconvert_exporter": "python",
   "pygments_lexer": "ipython3",
   "version": "3.8.8"
  }
 },
 "nbformat": 4,
 "nbformat_minor": 5
}
